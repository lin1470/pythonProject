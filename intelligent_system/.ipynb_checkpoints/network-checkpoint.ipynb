{
 "cells": [
  {
   "cell_type": "code",
   "execution_count": 59,
   "metadata": {
    "collapsed": true
   },
   "outputs": [],
   "source": [
    "import pandas as pd\n",
    "import numpy as np"
   ]
  },
  {
   "cell_type": "code",
   "execution_count": 62,
   "metadata": {
    "collapsed": true,
    "scrolled": true
   },
   "outputs": [],
   "source": [
    "\n",
    "colNames = ['class','Alcohol','Malic acid','Ash','Alcalinity of ash','Magnesium','Total phenols','Flavanoids',\n",
    "                'Nonflavanoid phenols','Proanthocyanins','Color intensity','Hue','diluted wines','Proline']\n",
    "wine_data = pd.read_csv('/home/bruce/Desktop/智能系统/wine.data',names=colNames)"
   ]
  },
  {
   "cell_type": "code",
   "execution_count": 4,
   "metadata": {
    "collapsed": true
   },
   "outputs": [],
   "source": [
    "# 定义激活函数是：sigmoid function\n",
    "# deriv=ture 是求的是导数，用S型函数的好处就是求导非常之方便的。\n",
    "def nonlin(x,deriv=False):\n",
    "    if(deriv==True):\n",
    "        return x*(1-x)\n",
    "    return 1/(1+np.exp(-x))"
   ]
  },
  {
   "cell_type": "code",
   "execution_count": 40,
   "metadata": {
    "collapsed": true
   },
   "outputs": [],
   "source": [
    "from sklearn.cross_validation import train_test_split\n",
    "# 这个函数返回划分的训练集和测试集。\n",
    "def get_data(wine_data):\n",
    "    train_data, test_data = train_test_split(wine_data, test_size = 0.4)\n",
    "#     print(train_data,test_data)\n",
    "    train_input_data = train_data.iloc[:,1:14].values\n",
    "#     train_output_data =np.array([train_data.iloc[:,0].values]).T\n",
    "    train_output_data = pd.get_dummies(train_data['class']).values\n",
    "    test_input_data = test_data.loc[:,'Alcohol':'Proline'].values\n",
    "#     test_output_data = np.array([test_data.loc[:,'class'].values]).T\n",
    "    test_output_data = pd.get_dummies(test_data['class']).values\n",
    "    return train_input_data,train_output_data,test_input_data,test_output_data\n"
   ]
  },
  {
   "cell_type": "code",
   "execution_count": 74,
   "metadata": {
    "collapsed": true
   },
   "outputs": [],
   "source": [
    "# 定义了神经网络的函数，n代表的是输入的节点数，和3个输出节点数的神经网络。\n",
    "class neuralNetwork:\n",
    "    def __init__(self,n,layer=2):\n",
    "        self.n = n\n",
    "        self.layer = layer\n",
    "        np.random.seed(n)\n",
    "        self.syn0 = 2*np.random.random((n,n+2)) - 1\n",
    "        self.syn1 = 2*np.random.random((n+2,3)) - 1\n",
    "        \n",
    "    def training(self,train_data,y):\n",
    "        for j in range(100000):\n",
    "            # Feed forward through layers 0, 1, and 2\n",
    "            l0 = train_data\n",
    "            l1 = nonlin(np.dot(l0,self.syn0))\n",
    "            l2 = nonlin(np.dot(l1,self.syn1))\n",
    "            l2_error = y - l2\n",
    "            # 每10000次迭代了之后就计算一次所有误差的平均值。\n",
    "            if (j% 10000) == 0:\n",
    "                print \"迭代\" ,j,'次的误差是：',str(np.mean(np.abs(l2_error)))\n",
    "            # in what direction is the target value?\n",
    "            # were we really sure? if so, don't change too much.\n",
    "            l2_delta = l2_error*nonlin(l2,deriv=True)\n",
    "            # how much did each l1 value contribute to the l2 error (according to the weights)?\n",
    "            l1_error = l2_delta.dot(self.syn1.T)\n",
    "            # in what direction is the target l1?\n",
    "            # were we really sure? if so, don't change too much.\n",
    "            l1_delta = l1_error * nonlin(l1,deriv=True)\n",
    "#             print 'l1_delta.shape',l1_delta.shape\n",
    "            self.syn1 += 0.1*l1.T.dot(l2_delta)\n",
    "            self.syn0 += 0.1*l0.T.dot(l1_delta)\n",
    "            \n",
    "    def predict(self,pre_data):\n",
    "        return nonlin(nonlin(pre_data.dot(self.syn0)).dot(self.syn1))\n"
   ]
  },
  {
   "cell_type": "markdown",
   "metadata": {},
   "source": [
    "对各列的数据进行z-score规范化。"
   ]
  },
  {
   "cell_type": "code",
   "execution_count": 38,
   "metadata": {
    "collapsed": true
   },
   "outputs": [],
   "source": [
    "wine_data_y = wine_data['class']\n",
    "wine_data_x =wine_data.drop('class',axis=1)\n",
    "means = wine_data_x.mean()\n",
    "stds = wine_data_x.std()\n",
    "x = (wine_data_x-means)/stds\n",
    "x.insert(0,'class',wine_data_y)\n",
    "data = x"
   ]
  },
  {
   "cell_type": "code",
   "execution_count": 77,
   "metadata": {
    "scrolled": true
   },
   "outputs": [
    {
     "name": "stdout",
     "output_type": "stream",
     "text": [
      "迭代 0 次的误差是： 0.505139497802\n",
      "迭代 10000 次的误差是： 0.00151093845035\n",
      "迭代 20000 次的误差是： 0.00103555548004\n",
      "迭代 30000 次的误差是： 0.000832390075319\n",
      "迭代 40000 次的误差是： 0.0007135611419\n",
      "迭代 50000 次的误差是： 0.000633486179581\n",
      "迭代 60000 次的误差是： 0.000574925405632\n",
      "迭代 70000 次的误差是： 0.000529743669364\n",
      "迭代 80000 次的误差是： 0.000493541112172\n",
      "迭代 90000 次的误差是： 0.000463705025005\n"
     ]
    }
   ],
   "source": [
    "# 划分并返回训练集和测试集\n",
    "train_input_data,train_output_data,test_input_data,test_output_data = get_data(data)\n",
    "# 建立13个输入的节点的神经网络\n",
    "network = neuralNetwork(13)\n",
    "# 进行训练10000次\n",
    "network.training(train_input_data,train_output_data)\n",
    "# 存储测试结果\n",
    "result = network.predict(test_input_data)"
   ]
  },
  {
   "cell_type": "markdown",
   "metadata": {},
   "source": [
    "以下是计算准确率的步骤。"
   ]
  },
  {
   "cell_type": "code",
   "execution_count": 54,
   "metadata": {
    "collapsed": true
   },
   "outputs": [],
   "source": [
    "# 获得最大值的函数\n",
    "def get_max_index(array):\n",
    "    \n",
    "    array = list(array)\n",
    "    return array.index(max(array))\n",
    "        "
   ]
  },
  {
   "cell_type": "code",
   "execution_count": 76,
   "metadata": {},
   "outputs": [
    {
     "name": "stdout",
     "output_type": "stream",
     "text": [
      "三层神经网络的准确率为： 0.958333333333\n"
     ]
    }
   ],
   "source": [
    "count =0\n",
    "for i in range(len(test_output_data)):\n",
    "    if get_max_index(test_output_data[i]) == get_max_index(result[i]):\n",
    "        count +=1\n",
    "print \"三层神经网络的准确率为：\",count*1.0/len(result)"
   ]
  }
 ],
 "metadata": {
  "kernelspec": {
   "display_name": "Python 2",
   "language": "python",
   "name": "python2"
  },
  "language_info": {
   "codemirror_mode": {
    "name": "ipython",
    "version": 2
   },
   "file_extension": ".py",
   "mimetype": "text/x-python",
   "name": "python",
   "nbconvert_exporter": "python",
   "pygments_lexer": "ipython2",
   "version": "2.7.13"
  }
 },
 "nbformat": 4,
 "nbformat_minor": 2
}
