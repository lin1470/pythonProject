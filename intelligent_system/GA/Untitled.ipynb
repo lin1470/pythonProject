{
 "cells": [
  {
   "cell_type": "code",
   "execution_count": 3,
   "metadata": {
    "collapsed": true
   },
   "outputs": [],
   "source": [
    "# -*- coding: utf-8 -*-\n",
    "from numpy import random\n",
    "import numpy as np\n",
    "import matplotlib.pyplot as plt\n",
    "from math import pi,sin\n",
    "import copy\n",
    "from itertools import combinations,permutations\n",
    "#%%"
   ]
  },
  {
   "cell_type": "markdown",
   "metadata": {},
   "source": [
    "目标函数的定义"
   ]
  },
  {
   "cell_type": "code",
   "execution_count": 4,
   "metadata": {
    "collapsed": true
   },
   "outputs": [],
   "source": [
    "f = lambda j,x1,x2: 3-(sin(j*x1)**2+sin(j*x2)**2)"
   ]
  },
  {
   "cell_type": "markdown",
   "metadata": {},
   "source": [
    "适应性函数的定义"
   ]
  },
  {
   "cell_type": "code",
   "execution_count": 5,
   "metadata": {
    "collapsed": true
   },
   "outputs": [],
   "source": [
    "fit = lambda j,x1,x2: sin(j*x1)**2+sin(j*x2)**2"
   ]
  },
  {
   "cell_type": "code",
   "execution_count": 15,
   "metadata": {
    "collapsed": true
   },
   "outputs": [],
   "source": [
    "\n",
    "class Gas():\n",
    "\n",
    "    # 初始化这个算法，然后确定了种群大小，染色体大小，和最大值最小值\n",
    "    def __init__(self,popSize,chroSize,xrangeMin,xrangeMax,j=2):\n",
    "        self.popSize = popSize\n",
    "        self.chroSize = chroSize\n",
    "        self.xrangeMin = xrangeMin\n",
    "        self.xrangeMax = xrangeMax\n",
    "        self.crossRate = 0.7  # 默认初始化的交叉率是0.7\n",
    "        self.mutationRate = 0.01  # 变异率是0.01\n",
    "        self.fit = lambda x: sin(j*x)**2\n",
    "    \n",
    "    # 初始化种群。\n",
    "    def initialPop(self):\n",
    "        \n",
    "        pop = random.randint(0,2,size = (self.popSize,self.chroSize))\n",
    "        return pop\n",
    "\n",
    "    # 将十进制进行转换到求解空间中的数值\n",
    "    def get_declist(self,chroms):\n",
    "        step = (self.xrangeMax-self.xrangeMin)/float(2**self.chroSize-1)\n",
    "        chroms_declist = []\n",
    "        for i in xrange(self.popSize):\n",
    "            chrom_dec = self.xrangeMin + step*self.chromToDec(chroms[i])\n",
    "            chroms_declist.append(chrom_dec)\n",
    "        return chroms_declist\n",
    "\n",
    "    def chromToDec(self,chrom):\n",
    "        m =1\n",
    "        r =0\n",
    "        for i in xrange(self.chroSize-1,-1,-1):\n",
    "            r = r + m*chrom[i]\n",
    "            m = m*2\n",
    "        return r\n",
    "    \n",
    "#     def get_solution_room(self,chroms):\n",
    "#         # 获得染色体的十进制表示\n",
    "#         chroms_declist = self.get_declist(chroms)\n",
    "#         return list(combinations(chroms_declist,self.j))\n",
    "    \n",
    "    # 获得各个基因的适应值。\n",
    "    def get_fitness(self,chroms):\n",
    "        \n",
    "        chroms_declist = self.get_declist(chroms)\n",
    "#         room = self.get_solution_room(chroms)\n",
    "        fitness_list = []\n",
    "        for i in xrange(len(chroms_declist)):\n",
    "            fitness_list.append(self.fit(chroms_declist[i]))\n",
    "        return fitness_list\n",
    "    \n",
    "    # 输入参数为上一代的种群，和上一代种群适应度列表。\n",
    "    # 还没有完全测试完成\n",
    "    def selection(self,popSel,fitValue):\n",
    "        newFitValue = []\n",
    "        totalFitValue = sum(fitValue)\n",
    "        accumulator =0.0\n",
    "        for val in fitValue:\n",
    "            # 利用累加适应度来确定后面的算法\n",
    "            newVal = val*1.0/totalFitValue\n",
    "            accumulator +=newVal\n",
    "            newFitValue.append(accumulator)\n",
    "#         print \"newFitValue\",newFitValue\n",
    "        ms = []\n",
    "        for i in xrange(self.popSize):\n",
    "            # 随机生成0,1之间的随机数\n",
    "            ms.append(random.random())\n",
    "        ms.sort() # 由小到大的排列\n",
    "#         print \"ms\",ms\n",
    "        # 利用双指针变量来进行选择，一次的扫描就能完成\n",
    "        # 算是比较优化的算法了。\n",
    "        fit_in = 0\n",
    "        new_in = 0 \n",
    "        newPop = popSel\n",
    "        while new_in <self.popSize:\n",
    "            if(ms[new_in]<newFitValue[fit_in]):\n",
    "                newPop[new_in]= popSel[fit_in]\n",
    "#                 print fit_in\n",
    "                new_in +=1\n",
    "            else:\n",
    "                fit_in +=1\n",
    "        pop = newPop\n",
    "        # 返回的是适应度大的个体会被选择的概率较大\n",
    "        # 使得新种群中，会有重复的较优个体。\n",
    "        return pop\n",
    "    \n",
    "    # 交叉的过程貌似不是很理解\n",
    "    def crossover(self,pop):\n",
    "        for i in xrange(self.popSize-1):\n",
    "            #近邻个体交叉，若随机数小于交叉率\n",
    "            if(random.random()<self.crossRate):\n",
    "                # 随机选择交叉点\n",
    "                singPoint = random.randint(0,self.chroSize)\n",
    "                temp1 = []\n",
    "                temp2 = []\n",
    "                # 对个体进行切片和重组\n",
    "                temp1.extend(pop[i][0:singPoint])\n",
    "                temp1.extend(pop[i+1][singPoint:self.chroSize])\n",
    "                temp2.extend(pop[i+1][0:singPoint])\n",
    "                temp2.extend(pop[i][singPoint:self.chroSize])\n",
    "                pop[i]=temp1\n",
    "                pop[i+1]=temp2\n",
    "        return pop\n",
    "    # 变异的过程。\n",
    "    def mutation(self,pop):\n",
    "        for i in xrange(self.popSize):\n",
    "            #反转变异，随机数小于变异率，进行变异\n",
    "            if (random.random()< self.mutationRate):\n",
    "                mpoint = random.randint(0,self.chrosize-1)\n",
    "                #将随机点上的基因进行反转。\n",
    "                if(pop[i][mpoint]==1):\n",
    "                    pop[i][mpoint] = 0\n",
    "                else:\n",
    "                    pop[mpoint] =1\n",
    "\n",
    "        return pop\n",
    "    \n",
    "    def elitism(self,pop,popBest,nextBestFit,fitBest):\n",
    "        # 输入上一代中的最优个体，变异之后的种群\n",
    "        # 上一代的最有适应度，本代中最优适应度，这些变量都是在主函数中生成的。\n",
    "        if nestBestFit-fitBest<0:\n",
    "             #满足精英策略后，找到最差个体的索引，进行替换。\n",
    "            pop_worst =nextfitvalue.index(min(nextfitvalue)) # 并没有在函数中说明的变量，非常之不妥。\n",
    "            pop[pop_worst] = popbest\n",
    "        return pop\n"
   ]
  },
  {
   "cell_type": "code",
   "execution_count": 16,
   "metadata": {},
   "outputs": [
    {
     "ename": "AttributeError",
     "evalue": "Gas instance has no attribute 'chrosize'",
     "output_type": "error",
     "traceback": [
      "\u001b[0;31m\u001b[0m",
      "\u001b[0;31mAttributeError\u001b[0mTraceback (most recent call last)",
      "\u001b[0;32m<ipython-input-16-c44e03d36bb9>\u001b[0m in \u001b[0;36m<module>\u001b[0;34m()\u001b[0m\n\u001b[1;32m     19\u001b[0m     \u001b[0mmainGas\u001b[0m\u001b[0;34m.\u001b[0m\u001b[0mselection\u001b[0m\u001b[0;34m(\u001b[0m\u001b[0mpop\u001b[0m\u001b[0;34m,\u001b[0m\u001b[0mfitvalue\u001b[0m\u001b[0;34m)\u001b[0m  \u001b[0;31m#选择\u001b[0m\u001b[0;34m\u001b[0m\u001b[0m\n\u001b[1;32m     20\u001b[0m     \u001b[0mmainGas\u001b[0m\u001b[0;34m.\u001b[0m\u001b[0mcrossover\u001b[0m\u001b[0;34m(\u001b[0m\u001b[0mpop\u001b[0m\u001b[0;34m)\u001b[0m \u001b[0;31m# 交叉\u001b[0m\u001b[0;34m\u001b[0m\u001b[0m\n\u001b[0;32m---> 21\u001b[0;31m     \u001b[0mmainGas\u001b[0m\u001b[0;34m.\u001b[0m\u001b[0mmutation\u001b[0m\u001b[0;34m(\u001b[0m\u001b[0mpop\u001b[0m\u001b[0;34m)\u001b[0m  \u001b[0;31m#变异\u001b[0m\u001b[0;34m\u001b[0m\u001b[0m\n\u001b[0m\u001b[1;32m     22\u001b[0m     \u001b[0;31m################################精英策略前的准备\u001b[0m\u001b[0;34m\u001b[0m\u001b[0;34m\u001b[0m\u001b[0m\n\u001b[1;32m     23\u001b[0m     \u001b[0;31m#对变异之后的pop，求解最大适应度\u001b[0m\u001b[0;34m\u001b[0m\u001b[0;34m\u001b[0m\u001b[0m\n",
      "\u001b[0;32m<ipython-input-15-a0722d845f76>\u001b[0m in \u001b[0;36mmutation\u001b[0;34m(self, pop)\u001b[0m\n\u001b[1;32m    107\u001b[0m             \u001b[0;31m#反转变异，随机数小于变异率，进行变异\u001b[0m\u001b[0;34m\u001b[0m\u001b[0;34m\u001b[0m\u001b[0m\n\u001b[1;32m    108\u001b[0m             \u001b[0;32mif\u001b[0m \u001b[0;34m(\u001b[0m\u001b[0mrandom\u001b[0m\u001b[0;34m.\u001b[0m\u001b[0mrandom\u001b[0m\u001b[0;34m(\u001b[0m\u001b[0;34m)\u001b[0m\u001b[0;34m<\u001b[0m \u001b[0mself\u001b[0m\u001b[0;34m.\u001b[0m\u001b[0mmutationRate\u001b[0m\u001b[0;34m)\u001b[0m\u001b[0;34m:\u001b[0m\u001b[0;34m\u001b[0m\u001b[0m\n\u001b[0;32m--> 109\u001b[0;31m                 \u001b[0mmpoint\u001b[0m \u001b[0;34m=\u001b[0m \u001b[0mrandom\u001b[0m\u001b[0;34m.\u001b[0m\u001b[0mrandint\u001b[0m\u001b[0;34m(\u001b[0m\u001b[0;36m0\u001b[0m\u001b[0;34m,\u001b[0m\u001b[0mself\u001b[0m\u001b[0;34m.\u001b[0m\u001b[0mchrosize\u001b[0m\u001b[0;34m-\u001b[0m\u001b[0;36m1\u001b[0m\u001b[0;34m)\u001b[0m\u001b[0;34m\u001b[0m\u001b[0m\n\u001b[0m\u001b[1;32m    110\u001b[0m                 \u001b[0;31m#将随机点上的基因进行反转。\u001b[0m\u001b[0;34m\u001b[0m\u001b[0;34m\u001b[0m\u001b[0m\n\u001b[1;32m    111\u001b[0m                 \u001b[0;32mif\u001b[0m\u001b[0;34m(\u001b[0m\u001b[0mpop\u001b[0m\u001b[0;34m[\u001b[0m\u001b[0mi\u001b[0m\u001b[0;34m]\u001b[0m\u001b[0;34m[\u001b[0m\u001b[0mmpoint\u001b[0m\u001b[0;34m]\u001b[0m\u001b[0;34m==\u001b[0m\u001b[0;36m1\u001b[0m\u001b[0;34m)\u001b[0m\u001b[0;34m:\u001b[0m\u001b[0;34m\u001b[0m\u001b[0m\n",
      "\u001b[0;31mAttributeError\u001b[0m: Gas instance has no attribute 'chrosize'"
     ]
    }
   ],
   "source": [
    "generation = 100 # 遗传代数\n",
    "#引入Gas类，传入参数：种群大小，编码长度，变量范围\n",
    "mainGas =Gas(50,23,0,6) \n",
    "pop =mainGas.initialPop()  #种群初始化\n",
    "pop_best = [] #每代最优个体\n",
    "for i in xrange(generation): \n",
    "    #在遗传代数内进行迭代\n",
    "    declist =mainGas.get_declist(pop)#解码\n",
    "    fitvalue =mainGas.get_fitness(pop)#适应度函数\n",
    "    #选择适应度函数最高个体\n",
    "    popbest = pop[fitvalue.index(max(fitvalue))]\n",
    "    #对popbest进行深复制，以为后面精英选择做准备\n",
    "    popbest =copy.deepcopy(popbest)\n",
    "    #最高适应度\n",
    "    fitbest = max(fitvalue)\n",
    "    #保存每代最高适应度值\n",
    "    pop_best.append(fitbest)        \n",
    "    ################################进行算子操作，并不断更新pop\n",
    "    mainGas.selection(pop,fitvalue)  #选择\n",
    "    mainGas.crossover(pop) # 交叉\n",
    "    mainGas.mutation(pop)  #变异\n",
    "    ################################精英策略前的准备\n",
    "    #对变异之后的pop，求解最大适应度\n",
    "    nextdeclist = mainGas.get_declist(pop) \n",
    "    nextfitvalue =mainGas.get_fitness(nextdeclist)        \n",
    "    nextbestfit = max(nextfitvalue) \n",
    "    ################################精英策略\n",
    "    #比较深复制的个体适应度和变异之后的适应度\n",
    "    mainGas.elitism(pop,popbest,nextbestfit,fitbest)\n",
    "\n"
   ]
  },
  {
   "cell_type": "code",
   "execution_count": 13,
   "metadata": {},
   "outputs": [
    {
     "name": "stdout",
     "output_type": "stream",
     "text": [
      "[0.040849217937756296, 0.36380561678331264, 0.7979308063854261, 0.46425143036817623, 0.04897145529682595, 0.9583034940067583, 0.13673730181572347, 0.10591613902491623, 0.9906414680197879, 0.9560373413469423]\n"
     ]
    },
    {
     "data": {
      "text/plain": [
       "array([[0, 1, 1, 0, 1, 1, 1, 0, 0, 1, 1, 1, 1, 0, 1, 0, 0, 0, 1, 0, 1, 0, 0],\n",
       "       [0, 1, 1, 0, 1, 1, 1, 0, 0, 1, 1, 1, 1, 0, 1, 0, 0, 0, 1, 0, 1, 0, 0],\n",
       "       [0, 1, 1, 0, 1, 1, 1, 0, 0, 1, 1, 1, 1, 0, 1, 0, 0, 0, 1, 0, 1, 0, 0],\n",
       "       [1, 0, 0, 1, 0, 1, 1, 0, 0, 0, 0, 0, 1, 0, 0, 0, 0, 1, 1, 1, 1, 1, 0],\n",
       "       [0, 1, 1, 0, 0, 1, 1, 0, 1, 0, 0, 1, 1, 0, 0, 1, 0, 0, 0, 1, 0, 1, 0],\n",
       "       [0, 1, 1, 0, 0, 1, 1, 0, 1, 0, 0, 1, 1, 0, 0, 1, 0, 0, 0, 1, 0, 1, 0],\n",
       "       [0, 1, 1, 0, 0, 1, 1, 0, 1, 0, 0, 1, 1, 0, 0, 1, 0, 0, 0, 1, 0, 1, 0],\n",
       "       [0, 1, 1, 0, 0, 1, 1, 0, 1, 0, 0, 1, 1, 0, 0, 1, 0, 0, 0, 1, 0, 1, 0],\n",
       "       [0, 1, 1, 0, 0, 1, 1, 0, 1, 0, 0, 1, 1, 0, 0, 1, 0, 0, 0, 1, 0, 1, 0],\n",
       "       [1, 1, 1, 0, 0, 1, 1, 0, 0, 0, 0, 1, 0, 0, 0, 0, 1, 1, 0, 1, 0, 1, 1]])"
      ]
     },
     "execution_count": 13,
     "metadata": {},
     "output_type": "execute_result"
    }
   ],
   "source": [
    "ga = Gas(10,23,0,6)\n",
    "population = ga.initialPop()\n",
    "pop_declist = ga.get_declist(population)\n",
    "fitness = ga.get_fitness(population)\n",
    "# print fitness\n",
    "ga.selection(population,fitness)"
   ]
  },
  {
   "cell_type": "code",
   "execution_count": 28,
   "metadata": {},
   "outputs": [
    {
     "ename": "TypeError",
     "evalue": "unhashable type: 'numpy.ndarray'",
     "output_type": "error",
     "traceback": [
      "\u001b[0;31m\u001b[0m",
      "\u001b[0;31mTypeError\u001b[0mTraceback (most recent call last)",
      "\u001b[0;32m<ipython-input-28-61d0a4aa3ccd>\u001b[0m in \u001b[0;36m<module>\u001b[0;34m()\u001b[0m\n\u001b[1;32m      4\u001b[0m \u001b[0ma1\u001b[0m \u001b[0;34m=\u001b[0m \u001b[0mnp\u001b[0m\u001b[0;34m.\u001b[0m\u001b[0marray\u001b[0m\u001b[0;34m(\u001b[0m\u001b[0ma\u001b[0m\u001b[0;34m[\u001b[0m\u001b[0;36m1\u001b[0m\u001b[0;34m]\u001b[0m\u001b[0;34m)\u001b[0m\u001b[0;34m\u001b[0m\u001b[0m\n\u001b[1;32m      5\u001b[0m \u001b[0mset1\u001b[0m \u001b[0;34m=\u001b[0m \u001b[0mset\u001b[0m\u001b[0;34m(\u001b[0m\u001b[0;34m)\u001b[0m\u001b[0;34m\u001b[0m\u001b[0m\n\u001b[0;32m----> 6\u001b[0;31m \u001b[0mset1\u001b[0m\u001b[0;34m.\u001b[0m\u001b[0madd\u001b[0m\u001b[0;34m(\u001b[0m\u001b[0ma0\u001b[0m\u001b[0;34m)\u001b[0m\u001b[0;34m\u001b[0m\u001b[0m\n\u001b[0m",
      "\u001b[0;31mTypeError\u001b[0m: unhashable type: 'numpy.ndarray'"
     ]
    }
   ],
   "source": [
    "a  = np.array([[1,2],[2,3]])\n",
    "a=[[1,2],[2,2]]\n",
    "a0 = np.array(a[0])\n",
    "a1 = np.array(a[1])\n",
    "set1 = set()\n",
    "set1.add(a0)"
   ]
  }
 ],
 "metadata": {
  "kernelspec": {
   "display_name": "Python 2",
   "language": "python",
   "name": "python2"
  },
  "language_info": {
   "codemirror_mode": {
    "name": "ipython",
    "version": 2
   },
   "file_extension": ".py",
   "mimetype": "text/x-python",
   "name": "python",
   "nbconvert_exporter": "python",
   "pygments_lexer": "ipython2",
   "version": "2.7.13"
  }
 },
 "nbformat": 4,
 "nbformat_minor": 2
}
