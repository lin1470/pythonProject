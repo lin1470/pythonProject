{
 "cells": [
  {
   "cell_type": "code",
   "execution_count": 2,
   "metadata": {},
   "outputs": [
    {
     "name": "stderr",
     "output_type": "stream",
     "text": [
      "Start auto replying.\n",
      "Bye~\n"
     ]
    }
   ],
   "source": [
    "#coding:utf-8\n",
    "import requests\n",
    "import itchat\n",
    "\n",
    "KEY = '8edce3ce905a4c1dbb965e6b35c3834d'\n",
    "\n",
    "def get_response(msg):\n",
    "    # 这里我们就像在“3. 实现最简单的与图灵机器人的交互”中做的一样\n",
    "    # 构造了要发送给服务器的数据\n",
    "    apiUrl = 'http://www.tuling123.com/openapi/api'\n",
    "    data = {\n",
    "        'key'    : KEY,\n",
    "        'info'   : msg,\n",
    "        'userid' : 'wechat-robot',\n",
    "    }\n",
    "    try:\n",
    "        r = requests.post(apiUrl, data=data).json()\n",
    "        # 字典的get方法在字典没有'text'值的时候会返回None而不会抛出异常\n",
    "        return r.get('text')\n",
    "    # 为了防止服务器没有正常响应导致程序异常退出，这里用try-except捕获了异常\n",
    "    # 如果服务器没能正常交互（返回非json或无法连接），那么就会进入下面的return\n",
    "    except:\n",
    "        # 将会返回一个None\n",
    "        return\n",
    "\n",
    "# 这里是我们在“1. 实现微信消息的获取”中已经用到过的同样的注册方法\n",
    "@itchat.msg_register(itchat.content.TEXT)\n",
    "def tuling_reply(msg):\n",
    "    # 为了保证在图灵Key出现问题的时候仍旧可以回复，这里设置一个默认回复\n",
    "    defaultReply = 'I received: ' + msg['Text']\n",
    "    # 如果图灵Key出现问题，那么reply将会是None\n",
    "    reply = get_response(msg['Text'])\n",
    "    # a or b的意思是，如果a有内容，那么返回a，否则返回b\n",
    "    # 有内容一般就是指非空或者非None，你可以用`if a: print('True')`来测试\n",
    "    return reply or defaultReply\n",
    "\n",
    "# 为了让实验过程更加方便（修改程序不用多次扫码），我们使用热启动\n",
    "itchat.auto_login(hotReload=True)\n",
    "itchat.run()\n"
   ]
  }
 ],
 "metadata": {
  "kernelspec": {
   "display_name": "Python 2",
   "language": "python",
   "name": "python2"
  },
  "language_info": {
   "codemirror_mode": {
    "name": "ipython",
    "version": 2
   },
   "file_extension": ".py",
   "mimetype": "text/x-python",
   "name": "python",
   "nbconvert_exporter": "python",
   "pygments_lexer": "ipython2",
   "version": "2.7.13"
  }
 },
 "nbformat": 4,
 "nbformat_minor": 2
}
