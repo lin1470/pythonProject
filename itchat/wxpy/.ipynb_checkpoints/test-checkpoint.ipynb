{
 "cells": [
  {
   "cell_type": "code",
   "execution_count": 1,
   "metadata": {},
   "outputs": [
    {
     "name": "stdout",
     "output_type": "stream",
     "text": [
      "█\r"
     ]
    },
    {
     "name": "stderr",
     "output_type": "stream",
     "text": [
      "Getting uuid of QR code.\n",
      "Downloading QR code.\n",
      "Please scan the QR code to log in.\n",
      "Please press confirm on your phone.\n",
      "Loading the contact, this may take a little while.\n",
      "Login successfully as 🌿嗖嘎 ❇\n"
     ]
    }
   ],
   "source": [
    "# 导入模块\n",
    "from wxpy import *\n",
    "# 初始化机器人，扫码登陆\n",
    "bot = Bot()"
   ]
  },
  {
   "cell_type": "code",
   "execution_count": 19,
   "metadata": {},
   "outputs": [
    {
     "name": "stdout",
     "output_type": "stream",
     "text": [
      "<Friend: 逼哥>\n"
     ]
    }
   ],
   "source": [
    "my_friend = bot.friends().search(u'逼哥')[0] # 自动返回一个一个列表来的\n",
    "print my_friend\n",
    "# my_friend.send_image('my_picture.jpg')"
   ]
  },
  {
   "cell_type": "code",
   "execution_count": 20,
   "metadata": {
    "collapsed": true
   },
   "outputs": [],
   "source": [
    "# 打印来自其他好友、群聊和公众号的消息\n",
    "@bot.register()\n",
    "def print_others(msg):\n",
    "    print(msg)\n",
    "\n",
    "# 回复 my_friend 的消息 (优先匹配后注册的函数!)\n",
    "@bot.register(my_friend)\n",
    "def reply_my_friend(msg):\n",
    "    return 'received: {} ({})'.format(msg.text, msg.type)\n",
    "\n",
    "# 自动接受新的好友请求\n",
    "@bot.register(msg_types=FRIENDS)\n",
    "def auto_accept_friends(msg):\n",
    "    # 接受好友请求\n",
    "    new_friend = msg.card.accept()\n",
    "    # 向新的好友发送消息\n",
    "    new_friend.send('哈哈，我自动接受了你的好友请求')"
   ]
  },
  {
   "cell_type": "code",
   "execution_count": null,
   "metadata": {},
   "outputs": [
    {
     "name": "stdout",
     "output_type": "stream",
     "text": [
      "廉江STUers › 龙少 : @16计算机邓岳英 10版的要嘛 (Text)\n",
      "廉江STUers › 龙少 : (Picture)\n",
      "17靓仔 : lv4英语书有吗 (Text)\n",
      "17靓仔 : 师兄 (Text)\n",
      "廉江STUers › 16计算机邓岳英 : 能用就行，谢谢师姐 (Text)\n",
      "廉江STUers › 16计算机邓岳英 : 师姐超漂亮 (Text)\n"
     ]
    }
   ],
   "source": [
    "bot.join() #这样可以保证运行程序,继续执行文件."
   ]
  }
 ],
 "metadata": {
  "kernelspec": {
   "display_name": "Python 2",
   "language": "python",
   "name": "python2"
  },
  "language_info": {
   "codemirror_mode": {
    "name": "ipython",
    "version": 2
   },
   "file_extension": ".py",
   "mimetype": "text/x-python",
   "name": "python",
   "nbconvert_exporter": "python",
   "pygments_lexer": "ipython2",
   "version": "2.7.13"
  }
 },
 "nbformat": 4,
 "nbformat_minor": 2
}
