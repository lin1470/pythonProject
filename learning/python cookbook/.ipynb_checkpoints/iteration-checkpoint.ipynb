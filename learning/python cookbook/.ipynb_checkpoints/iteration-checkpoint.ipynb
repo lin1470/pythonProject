{
 "cells": [
  {
   "cell_type": "markdown",
   "metadata": {},
   "source": [
    "## iteration"
   ]
  },
  {
   "cell_type": "code",
   "execution_count": 1,
   "metadata": {
    "collapsed": true
   },
   "outputs": [],
   "source": [
    "def frange(start, stop, increment):\n",
    "    x = start\n",
    "    while x < stop:\n",
    "        yield x\n",
    "        x += increment"
   ]
  },
  {
   "cell_type": "code",
   "execution_count": 4,
   "metadata": {},
   "outputs": [
    {
     "data": {
      "text/plain": [
       "[0, 0.5, 1.0, 1.5, 2.0, 2.5, 3.0, 3.5]"
      ]
     },
     "execution_count": 4,
     "metadata": {},
     "output_type": "execute_result"
    }
   ],
   "source": [
    "f1  = frange(0,4,0.5)\n",
    "list(f1 # you can use this function to turn into the list"
   ]
  },
  {
   "cell_type": "markdown",
   "metadata": {},
   "source": [
    "### implement the iterator Protocol 这个是深度优先的遍历。"
   ]
  },
  {
   "cell_type": "code",
   "execution_count": 2,
   "metadata": {
    "collapsed": true
   },
   "outputs": [],
   "source": [
    "class Node:\n",
    "    def __init__(self, value):\n",
    "        self._value = value\n",
    "        self._children = []\n",
    "    def __repr__(self):\n",
    "        return 'Node({!r})'.format(self._value)\n",
    "    def add_child(self, node):\n",
    "        self._children.append(node)\n",
    "    def __iter__(self):\n",
    "        return iter(self._children)\n",
    "    def depth_first(self):\n",
    "        yield self\n",
    "        for c in self:  \n",
    "            for item in c.depth_first(): \n",
    "                yield item # the raw code yield from is not unused.\n",
    "                # yield from itable is essentially same as the:\n",
    "                #for item in itable :\n",
    "                    # yield item"
   ]
  },
  {
   "cell_type": "markdown",
   "metadata": {},
   "source": [
    "we need to know that if we use the for statement, it can automatically call the __next__ function."
   ]
  },
  {
   "cell_type": "code",
   "execution_count": 3,
   "metadata": {},
   "outputs": [
    {
     "name": "stdout",
     "output_type": "stream",
     "text": [
      "Node(0)\n",
      "Node(1)\n",
      "Node(3)\n",
      "Node(4)\n",
      "Node(2)\n",
      "Node(5)\n"
     ]
    }
   ],
   "source": [
    " root = Node(0)\n",
    "child1 = Node(1)\n",
    "child2 = Node(2)\n",
    "root.add_child(child1)\n",
    "root.add_child(child2)\n",
    "child1.add_child(Node(3))\n",
    "child1.add_child(Node(4))\n",
    "child2.add_child(Node(5))\n",
    "for ch in root.depth_first():\n",
    "    print(ch)"
   ]
  },
  {
   "cell_type": "markdown",
   "metadata": {},
   "source": [
    "## iterating in reverse"
   ]
  },
  {
   "cell_type": "code",
   "execution_count": 4,
   "metadata": {
    "collapsed": true
   },
   "outputs": [],
   "source": [
    "class Countdown: # implements the reversed function by your own.\n",
    "    def __init__(self, start):\n",
    "        self.start = start\n",
    "    # Forward iterator\n",
    "    def __iter__(self):\n",
    "        n = self.start\n",
    "        while n > 0:\n",
    "            yield n\n",
    "            n -= 1\n",
    "    # Reverse iterator\n",
    "    def __reversed__(self):\n",
    "        n = 1\n",
    "        while n <= self.start:\n",
    "            yield n\n",
    "            n += 1"
   ]
  },
  {
   "cell_type": "code",
   "execution_count": 13,
   "metadata": {},
   "outputs": [
    {
     "name": "stdout",
     "output_type": "stream",
     "text": [
      "30 29 28 27 26 25 24 23 22 21 20 19 18 17 16 15 14 13 12 11 10 9 8 7 6 5 4 3 2 1 \n",
      "\n",
      "1 2 3 4 5 6 7 8 9 10 11 12 13 14 15 16 17 18 19 20 21 22 23 24 25 26 27 28 29 30\n"
     ]
    }
   ],
   "source": [
    "c = Countdown(30)\n",
    "for i in iter(c):\n",
    "    print i,\n",
    "print \"\\n\"\n",
    "for i in reversed(c):\n",
    "    print i,"
   ]
  },
  {
   "cell_type": "code",
   "execution_count": 2,
   "metadata": {
    "collapsed": true
   },
   "outputs": [],
   "source": [
    "from collections import deque\n",
    "class linehistory:\n",
    "    def __init__(self, lines, histlen=3):\n",
    "        self.lines = lines\n",
    "        self.history = deque(maxlen=histlen)\n",
    "    def __iter__(self):\n",
    "        for lineno, line in enumerate(self.lines,1):\n",
    "            self.history.append((lineno, line))\n",
    "            yield line\n",
    "    def clear(self):\n",
    "        self.history.clear()"
   ]
  },
  {
   "cell_type": "code",
   "execution_count": 16,
   "metadata": {},
   "outputs": [
    {
     "name": "stdout",
     "output_type": "stream",
     "text": [
      "3:djfgorgj\n",
      "4:asds\n",
      "5:python\n"
     ]
    }
   ],
   "source": [
    "with open('hello.txt') as f:\n",
    "    lines = linehistory(f)\n",
    "    for line in lines:\n",
    "        if 'python' in line:\n",
    "            for lineno, hline in lines.history:\n",
    "               # print('{}:{}'.format(lineno, hline),ends = '')\n",
    "              print '{}:{}'.format(lineno, hline),"
   ]
  },
  {
   "cell_type": "code",
   "execution_count": 23,
   "metadata": {},
   "outputs": [
    {
     "name": "stdout",
     "output_type": "stream",
     "text": [
      "(0, 'sdfsdfsdf\\n')\n",
      "<type 'tuple'>\n",
      "(1, 'sdfjk\\n')\n",
      "<type 'tuple'>\n",
      "(2, 'djfgorgj\\n')\n",
      "<type 'tuple'>\n",
      "(3, 'asds\\n')\n",
      "<type 'tuple'>\n",
      "(4, 'python\\n')\n",
      "<type 'tuple'>\n",
      "(5, 'asdds')\n",
      "<type 'tuple'>\n"
     ]
    }
   ],
   "source": [
    "with open('hello.txt') as f:\n",
    "    for line in enumerate(f):\n",
    "        print line\n",
    "        print type(line)"
   ]
  }
 ],
 "metadata": {
  "kernelspec": {
   "display_name": "Python 3",
   "language": "python",
   "name": "python3"
  },
  "language_info": {
   "codemirror_mode": {
    "name": "ipython",
    "version": 2
   },
   "file_extension": ".py",
   "mimetype": "text/x-python",
   "name": "python",
   "nbconvert_exporter": "python",
   "pygments_lexer": "ipython2",
   "version": "2.7.13"
  }
 },
 "nbformat": 4,
 "nbformat_minor": 2
}
