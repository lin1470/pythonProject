{
 "cells": [
  {
   "cell_type": "code",
   "execution_count": 4,
   "metadata": {
    "collapsed": true
   },
   "outputs": [],
   "source": [
    "import pandas as pd\n",
    "import numpy as np"
   ]
  },
  {
   "cell_type": "code",
   "execution_count": 13,
   "metadata": {},
   "outputs": [
    {
     "name": "stdout",
     "output_type": "stream",
     "text": [
      "                   A         B         C         D\n",
      "2013-01-01 -0.302932  1.352317  0.683584 -1.769327\n",
      "2013-01-02 -0.033727 -0.411434  0.145321  0.683015\n",
      "2013-01-03 -2.011942  0.172040  0.751044  1.641279\n",
      "2013-01-04  0.623556 -1.145890  0.642629 -0.294122\n",
      "2013-01-05 -1.269488  0.532542 -1.162664 -0.923940\n",
      "2013-01-06 -0.995757  0.708924 -1.309840 -0.217792\n"
     ]
    }
   ],
   "source": [
    "dates = pd.date_range('20130101', periods=6)\n",
    "obj = pd.Series([0,1,2,3])\n",
    "df = pd.DataFrame(np.random.randn(6,4), index=dates, columns=list('ABCD'))\n",
    "print df"
   ]
  },
  {
   "cell_type": "code",
   "execution_count": 16,
   "metadata": {},
   "outputs": [
    {
     "data": {
      "text/html": [
       "<div>\n",
       "<style>\n",
       "    .dataframe thead tr:only-child th {\n",
       "        text-align: right;\n",
       "    }\n",
       "\n",
       "    .dataframe thead th {\n",
       "        text-align: left;\n",
       "    }\n",
       "\n",
       "    .dataframe tbody tr th {\n",
       "        vertical-align: top;\n",
       "    }\n",
       "</style>\n",
       "<table border=\"1\" class=\"dataframe\">\n",
       "  <thead>\n",
       "    <tr style=\"text-align: right;\">\n",
       "      <th></th>\n",
       "      <th>A</th>\n",
       "      <th>B</th>\n",
       "      <th>C</th>\n",
       "      <th>D</th>\n",
       "    </tr>\n",
       "  </thead>\n",
       "  <tbody>\n",
       "    <tr>\n",
       "      <th>2013-01-01</th>\n",
       "      <td>-0.302932</td>\n",
       "      <td>1.352317</td>\n",
       "      <td>0.683584</td>\n",
       "      <td>-1.769327</td>\n",
       "    </tr>\n",
       "    <tr>\n",
       "      <th>2013-01-02</th>\n",
       "      <td>-0.033727</td>\n",
       "      <td>-0.411434</td>\n",
       "      <td>0.145321</td>\n",
       "      <td>0.683015</td>\n",
       "    </tr>\n",
       "    <tr>\n",
       "      <th>2013-01-03</th>\n",
       "      <td>-2.011942</td>\n",
       "      <td>0.172040</td>\n",
       "      <td>0.751044</td>\n",
       "      <td>1.641279</td>\n",
       "    </tr>\n",
       "    <tr>\n",
       "      <th>2013-01-04</th>\n",
       "      <td>0.623556</td>\n",
       "      <td>-1.145890</td>\n",
       "      <td>0.642629</td>\n",
       "      <td>-0.294122</td>\n",
       "    </tr>\n",
       "    <tr>\n",
       "      <th>2013-01-05</th>\n",
       "      <td>-1.269488</td>\n",
       "      <td>0.532542</td>\n",
       "      <td>-1.162664</td>\n",
       "      <td>-0.923940</td>\n",
       "    </tr>\n",
       "    <tr>\n",
       "      <th>2013-01-06</th>\n",
       "      <td>-0.995757</td>\n",
       "      <td>0.708924</td>\n",
       "      <td>-1.309840</td>\n",
       "      <td>-0.217792</td>\n",
       "    </tr>\n",
       "  </tbody>\n",
       "</table>\n",
       "</div>"
      ],
      "text/plain": [
       "                   A         B         C         D\n",
       "2013-01-01 -0.302932  1.352317  0.683584 -1.769327\n",
       "2013-01-02 -0.033727 -0.411434  0.145321  0.683015\n",
       "2013-01-03 -2.011942  0.172040  0.751044  1.641279\n",
       "2013-01-04  0.623556 -1.145890  0.642629 -0.294122\n",
       "2013-01-05 -1.269488  0.532542 -1.162664 -0.923940\n",
       "2013-01-06 -0.995757  0.708924 -1.309840 -0.217792"
      ]
     },
     "execution_count": 16,
     "metadata": {},
     "output_type": "execute_result"
    }
   ],
   "source": [
    "df.sort_index(axis=0)"
   ]
  },
  {
   "cell_type": "code",
   "execution_count": 25,
   "metadata": {},
   "outputs": [
    {
     "data": {
      "text/html": [
       "<div>\n",
       "<style>\n",
       "    .dataframe thead tr:only-child th {\n",
       "        text-align: right;\n",
       "    }\n",
       "\n",
       "    .dataframe thead th {\n",
       "        text-align: left;\n",
       "    }\n",
       "\n",
       "    .dataframe tbody tr th {\n",
       "        vertical-align: top;\n",
       "    }\n",
       "</style>\n",
       "<table border=\"1\" class=\"dataframe\">\n",
       "  <thead>\n",
       "    <tr style=\"text-align: right;\">\n",
       "      <th></th>\n",
       "      <th>A</th>\n",
       "      <th>B</th>\n",
       "      <th>C</th>\n",
       "      <th>D</th>\n",
       "    </tr>\n",
       "  </thead>\n",
       "  <tbody>\n",
       "    <tr>\n",
       "      <th>2013-01-03</th>\n",
       "      <td>-2.011942</td>\n",
       "      <td>0.172040</td>\n",
       "      <td>0.751044</td>\n",
       "      <td>1.641279</td>\n",
       "    </tr>\n",
       "    <tr>\n",
       "      <th>2013-01-05</th>\n",
       "      <td>-1.269488</td>\n",
       "      <td>0.532542</td>\n",
       "      <td>-1.162664</td>\n",
       "      <td>-0.923940</td>\n",
       "    </tr>\n",
       "    <tr>\n",
       "      <th>2013-01-06</th>\n",
       "      <td>-0.995757</td>\n",
       "      <td>0.708924</td>\n",
       "      <td>-1.309840</td>\n",
       "      <td>-0.217792</td>\n",
       "    </tr>\n",
       "    <tr>\n",
       "      <th>2013-01-01</th>\n",
       "      <td>-0.302932</td>\n",
       "      <td>1.352317</td>\n",
       "      <td>0.683584</td>\n",
       "      <td>-1.769327</td>\n",
       "    </tr>\n",
       "    <tr>\n",
       "      <th>2013-01-02</th>\n",
       "      <td>-0.033727</td>\n",
       "      <td>-0.411434</td>\n",
       "      <td>0.145321</td>\n",
       "      <td>0.683015</td>\n",
       "    </tr>\n",
       "    <tr>\n",
       "      <th>2013-01-04</th>\n",
       "      <td>0.623556</td>\n",
       "      <td>-1.145890</td>\n",
       "      <td>0.642629</td>\n",
       "      <td>-0.294122</td>\n",
       "    </tr>\n",
       "  </tbody>\n",
       "</table>\n",
       "</div>"
      ],
      "text/plain": [
       "                   A         B         C         D\n",
       "2013-01-03 -2.011942  0.172040  0.751044  1.641279\n",
       "2013-01-05 -1.269488  0.532542 -1.162664 -0.923940\n",
       "2013-01-06 -0.995757  0.708924 -1.309840 -0.217792\n",
       "2013-01-01 -0.302932  1.352317  0.683584 -1.769327\n",
       "2013-01-02 -0.033727 -0.411434  0.145321  0.683015\n",
       "2013-01-04  0.623556 -1.145890  0.642629 -0.294122"
      ]
     },
     "execution_count": 25,
     "metadata": {},
     "output_type": "execute_result"
    }
   ],
   "source": [
    "df.sort_values(by= list(\"ABCD\"))"
   ]
  },
  {
   "cell_type": "code",
   "execution_count": 32,
   "metadata": {},
   "outputs": [
    {
     "data": {
      "text/plain": [
       "1.0"
      ]
     },
     "execution_count": 32,
     "metadata": {},
     "output_type": "execute_result"
    }
   ],
   "source": [
    "df.loc[dates[0],'A'] = 1\n",
    "df.loc[dates[0],'A']"
   ]
  },
  {
   "cell_type": "code",
   "execution_count": 34,
   "metadata": {},
   "outputs": [
    {
     "data": {
      "text/plain": [
       "2.0"
      ]
     },
     "execution_count": 34,
     "metadata": {},
     "output_type": "execute_result"
    }
   ],
   "source": [
    "df.iloc[0,0] = 2\n",
    "df.iloc[0,0]"
   ]
  },
  {
   "cell_type": "code",
   "execution_count": 38,
   "metadata": {
    "collapsed": true
   },
   "outputs": [],
   "source": [
    "s1 = pd.Series([1,2,3,4,5,6], index=pd.date_range('20130101', periods=6))"
   ]
  },
  {
   "cell_type": "code",
   "execution_count": 39,
   "metadata": {},
   "outputs": [
    {
     "data": {
      "text/html": [
       "<div>\n",
       "<style>\n",
       "    .dataframe thead tr:only-child th {\n",
       "        text-align: right;\n",
       "    }\n",
       "\n",
       "    .dataframe thead th {\n",
       "        text-align: left;\n",
       "    }\n",
       "\n",
       "    .dataframe tbody tr th {\n",
       "        vertical-align: top;\n",
       "    }\n",
       "</style>\n",
       "<table border=\"1\" class=\"dataframe\">\n",
       "  <thead>\n",
       "    <tr style=\"text-align: right;\">\n",
       "      <th></th>\n",
       "      <th>A</th>\n",
       "      <th>B</th>\n",
       "      <th>C</th>\n",
       "      <th>D</th>\n",
       "      <th>F</th>\n",
       "    </tr>\n",
       "  </thead>\n",
       "  <tbody>\n",
       "    <tr>\n",
       "      <th>2013-01-01</th>\n",
       "      <td>2.000000</td>\n",
       "      <td>1.352317</td>\n",
       "      <td>0.683584</td>\n",
       "      <td>-1.769327</td>\n",
       "      <td>1</td>\n",
       "    </tr>\n",
       "    <tr>\n",
       "      <th>2013-01-02</th>\n",
       "      <td>-0.033727</td>\n",
       "      <td>-0.411434</td>\n",
       "      <td>0.145321</td>\n",
       "      <td>0.683015</td>\n",
       "      <td>2</td>\n",
       "    </tr>\n",
       "    <tr>\n",
       "      <th>2013-01-03</th>\n",
       "      <td>-2.011942</td>\n",
       "      <td>0.172040</td>\n",
       "      <td>0.751044</td>\n",
       "      <td>1.641279</td>\n",
       "      <td>3</td>\n",
       "    </tr>\n",
       "    <tr>\n",
       "      <th>2013-01-04</th>\n",
       "      <td>0.623556</td>\n",
       "      <td>-1.145890</td>\n",
       "      <td>0.642629</td>\n",
       "      <td>-0.294122</td>\n",
       "      <td>4</td>\n",
       "    </tr>\n",
       "    <tr>\n",
       "      <th>2013-01-05</th>\n",
       "      <td>-1.269488</td>\n",
       "      <td>0.532542</td>\n",
       "      <td>-1.162664</td>\n",
       "      <td>-0.923940</td>\n",
       "      <td>5</td>\n",
       "    </tr>\n",
       "    <tr>\n",
       "      <th>2013-01-06</th>\n",
       "      <td>-0.995757</td>\n",
       "      <td>0.708924</td>\n",
       "      <td>-1.309840</td>\n",
       "      <td>-0.217792</td>\n",
       "      <td>6</td>\n",
       "    </tr>\n",
       "  </tbody>\n",
       "</table>\n",
       "</div>"
      ],
      "text/plain": [
       "                   A         B         C         D  F\n",
       "2013-01-01  2.000000  1.352317  0.683584 -1.769327  1\n",
       "2013-01-02 -0.033727 -0.411434  0.145321  0.683015  2\n",
       "2013-01-03 -2.011942  0.172040  0.751044  1.641279  3\n",
       "2013-01-04  0.623556 -1.145890  0.642629 -0.294122  4\n",
       "2013-01-05 -1.269488  0.532542 -1.162664 -0.923940  5\n",
       "2013-01-06 -0.995757  0.708924 -1.309840 -0.217792  6"
      ]
     },
     "execution_count": 39,
     "metadata": {},
     "output_type": "execute_result"
    }
   ],
   "source": [
    "df['F'] = s1\n",
    "df"
   ]
  }
 ],
 "metadata": {
  "kernelspec": {
   "display_name": "Python 2",
   "language": "python",
   "name": "python2"
  },
  "language_info": {
   "codemirror_mode": {
    "name": "ipython",
    "version": 2
   },
   "file_extension": ".py",
   "mimetype": "text/x-python",
   "name": "python",
   "nbconvert_exporter": "python",
   "pygments_lexer": "ipython2",
   "version": "2.7.13"
  }
 },
 "nbformat": 4,
 "nbformat_minor": 2
}
