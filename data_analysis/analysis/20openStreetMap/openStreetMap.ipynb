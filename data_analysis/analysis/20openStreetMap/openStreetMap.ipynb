{
 "cells": [
  {
   "cell_type": "markdown",
   "metadata": {},
   "source": [
    "<h1><center>openStreetMap项目记录报告</center></h1>"
   ]
  },
  {
   "cell_type": "markdown",
   "metadata": {},
   "source": [
    "### 项目步骤\n",
    "1. **数据梳理**\n",
    "2. **数据处理**\n",
    "3. **导进mongodb并探索**\n",
    "4. **改进建议**"
   ]
  },
  {
   "cell_type": "markdown",
   "metadata": {},
   "source": [
    "### 1. 数据梳理"
   ]
  },
  {
   "cell_type": "code",
   "execution_count": 10,
   "metadata": {},
   "outputs": [
    {
     "name": "stdout",
     "output_type": "stream",
     "text": [
      "{'node': 319233, 'nd': 377367, 'bounds': 1, 'member': 8412, 'tag': 89575, 'osm': 1, 'way': 34552, 'relation': 332}\n"
     ]
    }
   ],
   "source": [
    "import xml.etree.cElementTree as ET\n",
    "import pprint\n",
    "import codecs\n",
    "\n",
    "def count_tags_type(file_name):\n",
    "    iterparse = ET.iterparse(file_name,events = (\"start\",))\n",
    "    tag_types = {}\n",
    "    for event, elem in iterparse:\n",
    "        if elem.tag not in tag_types.keys():\n",
    "            tag_types[elem.tag] = 1\n",
    "        else:\n",
    "            tag_types[elem.tag] += 1\n",
    "    return tag_types\n",
    "    pass\n",
    "\n",
    "file_name = \"wuhan_china.osm\"\n",
    "json_file = '/home/bruce/Desktop/wuhan_china.osm.json'\n",
    "tags_type = count_tags_type(file_name)\n",
    "print tags_type"
   ]
  },
  {
   "cell_type": "markdown",
   "metadata": {},
   "source": [
    "#### 通过这个代码我们发现了，这个不同的标签的数量，然后打开这个文件我们可以查看具体标签之间的关系。其中node是最多的，然后到way,前面的两个标签我觉得都是指道路，所以是比较多，然后就是relation这个标签，这个标签的子标签是member和tags这个应该是指道路之间的相互关系的。"
   ]
  },
  {
   "cell_type": "markdown",
   "metadata": {},
   "source": [
    "### 2.数据处理"
   ]
  },
  {
   "cell_type": "markdown",
   "metadata": {},
   "source": [
    "#### 这一部分是处理数据的过程，就是把所有xml的数据都转化为json格式内容。"
   ]
  },
  {
   "cell_type": "markdown",
   "metadata": {},
   "source": [
    "#### 这里我发现这个邮政编码有一个不是数字的而是Wuhan Hankou，因此利用正则表达式找出来，然后统一修改为武汉市的邮政编码430000。而且把tags属性里面的name给整理在了一起。"
   ]
  },
  {
   "cell_type": "code",
   "execution_count": 1,
   "metadata": {
    "collapsed": true
   },
   "outputs": [],
   "source": [
    "def shape_element(element):\n",
    "   \n",
    "    node = {}\n",
    "    node['type'] = element.tag # 自动添加这个type这个类型的数据\n",
    "    # 这个if是处理Node节点的。\n",
    "    if element.tag == 'node' or element.tag == 'relation' or element.tag == 'way':\n",
    "        element_len = len(element.attrib)\n",
    "        element_keys = element.attrib.keys()\n",
    "        created = {}\n",
    "        pos = {}\n",
    "        node['type'] = element.tag\n",
    "        for i in range(element_len):\n",
    "            if element_keys[i] in CREATED:\n",
    "                created[element_keys[i]] = element.attrib[element_keys[i]]\n",
    "            elif element_keys[i] == 'lon' or element_keys[i] == 'lat':\n",
    "                pos[element_keys[i]] = float(element.attrib[element_keys[i]])\n",
    "            else:\n",
    "                node[element_keys[i]] = element.attrib[element_keys[i]]\n",
    "        if len(pos) != 0:\n",
    "            pos_list = []\n",
    "            pos_list.append(pos['lat'])\n",
    "            pos_list.append(pos['lon'])\n",
    "            node['pos'] = pos_list\n",
    "        pass\n",
    "        if len(created) != 0:\n",
    "            node['created'] = created\n",
    "        # 处理node之中的tags\n",
    "        # if element.tag == 'node':\n",
    "        #     # tags = {}\n",
    "        #     if element.iter():\n",
    "        #         for it in element.iter('tag'):\n",
    "        #             tags[it.attrib['k']] = it.attrib['v']\n",
    "        #             pass\n",
    "        #     # if len(tags) != 0:\n",
    "        #     #     node['tags'] = tags\n",
    "\n",
    "        # 一起处理tags标签,将名字提取出来。\n",
    "\n",
    "        if element.iter('tag'):\n",
    "            name = {} # 把名字都放在一起\n",
    "            tags = {}\n",
    "            for it in element.iter('tag'):\n",
    "                if 'name:' in it.attrib['k']:\n",
    "                    key = it.attrib['k'].split(':')[1]\n",
    "                    value = it.attrib['v']\n",
    "                    name[key] = value\n",
    "                elif 'addr:postcode' in it.attrib['k']: # 只检查addr:postcode这个属性\n",
    "                    if not_number.search(it.attrib['v']):\n",
    "                        tags['addr:postcode'] = '430000'\n",
    "                        pass\n",
    "                    postcode.append(it.attrib['v'])\n",
    "                else:\n",
    "                    tags[it.attrib['k']] = it.attrib['v']\n",
    "                    pass\n",
    "            if len(name) != 0:\n",
    "                node['name'] = name\n",
    "            if len(tags) != 0:\n",
    "                node['tags'] = tags\n",
    "\n",
    "        # 处理way之中的tags和nd标签\n",
    "        if element.tag == 'way':\n",
    "            nd_refs = []\n",
    "            # tags = {}\n",
    "            if element.iter():\n",
    "                for it in element.iter('nd'):\n",
    "                    nd_refs.append(it.attrib['ref']) # 将所有的ref的属性都添加到这个里面\n",
    "                # if element.iter(\"tag\"):\n",
    "                #     for it in element.iter(\"tags\"):\n",
    "                #         tags[it.attrib['k']] = it.attrib['v']\n",
    "            if len(nd_refs) != 0:\n",
    "                node['nd_refs'] = nd_refs\n",
    "            # if len(tags) != 0:\n",
    "            #     node['tags'] = tags\n",
    "        # 处理relation标签中的\n",
    "        if element.tag == 'relation':\n",
    "            members = []\n",
    "            # tags = {}\n",
    "            if element.iter('member'):\n",
    "                for it in element.iter('member'):\n",
    "                    members.append([it.attrib['ref']])\n",
    "            # if element.iter(\"tags\"):\n",
    "            #     for it in element.iter(\"tags\"):\n",
    "            #         tags[it.attrib['k']] = it.attrib['v']\n",
    "            if len(members) != 0:\n",
    "                node['members'] = members\n",
    "            # if len(tags) != 0:\n",
    "            #     node['tags'] = tags\n",
    "\n",
    "            pass\n",
    "        return node\n",
    "\n",
    "    else:\n",
    "        return None\n",
    "\n",
    "    pass"
   ]
  },
  {
   "cell_type": "markdown",
   "metadata": {},
   "source": [
    "### 3.导进mongodb并探索"
   ]
  },
  {
   "cell_type": "markdown",
   "metadata": {},
   "source": [
    "#### 这一部分的代码是负责把处理后的数据作为一个json文件来输出刚开始的时候，输出的并不是标准的json的文件内容格式，因此需要在前后分别加上[和]，再有就是内容之间需要用“，”来隔开的，因此也多加了\",\"在中间，最后手动把最后一个“，”删除就是标准的json文件格式和内容的了。"
   ]
  },
  {
   "cell_type": "code",
   "execution_count": null,
   "metadata": {
    "collapsed": true
   },
   "outputs": [],
   "source": [
    "def process_map(file_in, pretty=False):\n",
    "    # You do not need to change this file\n",
    "    file_out = \"/home/bruce/Desktop/{0}.json\".format(file_in)\n",
    "    data = []\n",
    "    with codecs.open(file_out, \"w\") as fo: # 注意了这句话是打开并写入一个文件里面的。\n",
    "        fo.write(r'[')\n",
    "        for _, element in ET.iterparse(file_in):\n",
    "            el = shape_element(element)\n",
    "            if el:\n",
    "                data.append(el)\n",
    "                if pretty:\n",
    "                    fo.write(json.dumps(el, indent=2) + \",\\n\")\n",
    "                else:\n",
    "                    fo.write(json.dumps(el) + \"\\n\")\n",
    "        fo.write(r']')\n",
    "    return data"
   ]
  },
  {
   "cell_type": "markdown",
   "metadata": {},
   "source": [
    "#### 把json文件的数据导进Mongodb，需要注意就是如果不是标准的json的文件格式或者内容的话是无法读取和导进mongodb的。"
   ]
  },
  {
   "cell_type": "code",
   "execution_count": null,
   "metadata": {
    "collapsed": true
   },
   "outputs": [],
   "source": [
    "def import_data(file_name):\n",
    "    with open(file_name) as f:\n",
    "        data = json.loads(f.read())\n",
    "        for item in data:\n",
    "            db.item.insert(item)\n",
    "    pass"
   ]
  },
  {
   "cell_type": "markdown",
   "metadata": {},
   "source": [
    "#### 把json文件导进了mongodb之后就可以直接在mongdb里面把数据读取出来了。 "
   ]
  },
  {
   "cell_type": "code",
   "execution_count": 7,
   "metadata": {
    "collapsed": true
   },
   "outputs": [],
   "source": [
    "from pymongo import MongoClient\n",
    "\n",
    "client = MongoClient(\"mongodb://localhost:27017\")\n",
    "db = client.map"
   ]
  },
  {
   "cell_type": "markdown",
   "metadata": {},
   "source": [
    "#### 先查看数据的完整性。"
   ]
  },
  {
   "cell_type": "code",
   "execution_count": 15,
   "metadata": {},
   "outputs": [
    {
     "data": {
      "text/plain": [
       "354117"
      ]
     },
     "execution_count": 15,
     "metadata": {},
     "output_type": "execute_result"
    }
   ],
   "source": [
    "db.item.find().count() # 查看所有的数据个数"
   ]
  },
  {
   "cell_type": "code",
   "execution_count": 14,
   "metadata": {},
   "outputs": [
    {
     "data": {
      "text/plain": [
       "319233"
      ]
     },
     "execution_count": 14,
     "metadata": {},
     "output_type": "execute_result"
    }
   ],
   "source": [
    "db.item.find({\"type\":\"node\"}).count() # 发现是和之前在统计标签的时候的数字是一样的。"
   ]
  },
  {
   "cell_type": "code",
   "execution_count": 16,
   "metadata": {},
   "outputs": [
    {
     "data": {
      "text/plain": [
       "34552"
      ]
     },
     "execution_count": 16,
     "metadata": {},
     "output_type": "execute_result"
    }
   ],
   "source": [
    "db.item.find({\"type\":\"way\"}).count() # 发现是和之前在统计标签的时候的数字是一样的。"
   ]
  },
  {
   "cell_type": "code",
   "execution_count": 33,
   "metadata": {},
   "outputs": [
    {
     "data": {
      "text/plain": [
       "535"
      ]
     },
     "execution_count": 33,
     "metadata": {},
     "output_type": "execute_result"
    }
   ],
   "source": [
    "# 获取贡献用户的数量\n",
    "len(db.item.distinct(\"created.user\"))"
   ]
  },
  {
   "cell_type": "code",
   "execution_count": 25,
   "metadata": {},
   "outputs": [
    {
     "name": "stdout",
     "output_type": "stream",
     "text": [
      "{u'count': 111941, u'_id': u'GeoSUN'}\n"
     ]
    }
   ],
   "source": [
    "# 贡献度最大的用户\n",
    "agg = [doc for doc in db.item.aggregate([{\"$group\":{\"_id\":\"$created.user\", \"count\":{\"$sum\":1}}},  \n",
    "{\"$sort\":{\"count\": -1}}, {\"$limit\":1}])]\n",
    "print agg[0]\n"
   ]
  },
  {
   "cell_type": "code",
   "execution_count": 27,
   "metadata": {},
   "outputs": [
    {
     "name": "stdout",
     "output_type": "stream",
     "text": [
      "{u'num_users': 103, u'_id': 1}\n"
     ]
    }
   ],
   "source": [
    "# 只出现一次的用户 \n",
    "agg = [doc for doc in db.item.aggregate([{\"$group\":{\"_id\":\"$created.user\", \"count\":{\"$sum\":1}}},  \n",
    "{\"$group\":{\"_id\":\"$count\", \"num_users\":{\"$sum\":1}}},{\"$sort\":{\"_id\":1}}, \n",
    "{\"$limit\":1}])]\n",
    "print agg[0]"
   ]
  },
  {
   "cell_type": "markdown",
   "metadata": {},
   "source": [
    "### 4.改进建议"
   ]
  },
  {
   "cell_type": "markdown",
   "metadata": {},
   "source": [
    "#### 建议1：针对数据不规范的问题，可以在输入前设置规范规则，然后在输入数据之后需要对数据进行第二次的检查。  "
   ]
  },
  {
   "cell_type": "markdown",
   "metadata": {},
   "source": [
    "好处：  \n",
    "1.这样数据漏误更少，而且严密  \n",
    "2.提高用户使用地图的准确性，增加用户体验  \n",
    "预期问题：  \n",
    "1.数据输入的工作量增大。"
   ]
  },
  {
   "cell_type": "markdown",
   "metadata": {},
   "source": [
    "#### 建议2：允许用户自己发现并且修改数据"
   ]
  },
  {
   "cell_type": "markdown",
   "metadata": {},
   "source": [
    "好处：  \n",
    "1.使数据更加严密  \n",
    "预期问题：  \n",
    "1.数据管理工作难度增大"
   ]
  },
  {
   "cell_type": "markdown",
   "metadata": {},
   "source": [
    "#### 总结：这次项目主要就是前期数据准备和处理比较多的时间，还有就是有些数据的处理还是不够完善，比如说tags的属性里面有挺多的name的应该把他们合在一起或者挑选有用的信息，还有就是导入了mongodb之后探索的还不够。"
   ]
  }
 ],
 "metadata": {
  "kernelspec": {
   "display_name": "Python 2",
   "language": "python",
   "name": "python2"
  },
  "language_info": {
   "codemirror_mode": {
    "name": "ipython",
    "version": 2
   },
   "file_extension": ".py",
   "mimetype": "text/x-python",
   "name": "python",
   "nbconvert_exporter": "python",
   "pygments_lexer": "ipython2",
   "version": "2.7.13"
  }
 },
 "nbformat": 4,
 "nbformat_minor": 2
}
