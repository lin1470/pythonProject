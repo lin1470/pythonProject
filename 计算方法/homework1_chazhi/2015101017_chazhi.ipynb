{
 "cells": [
  {
   "cell_type": "markdown",
   "metadata": {},
   "source": [
    "<h1><center>汕头大学实验报告</center></h1>"
   ]
  },
  {
   "cell_type": "markdown",
   "metadata": {},
   "source": [
    "<table>\n",
    "<tr>\n",
    "<th>学号</th><th>姓名</th>\n",
    "</tr>\n",
    "<tr>\n",
    "<td>2015101017</td><td>李柱霖</td>\n",
    "</tr>\n",
    "</table>"
   ]
  },
  {
   "cell_type": "markdown",
   "metadata": {},
   "source": [
    "### 实验内容："
   ]
  },
  {
   "cell_type": "markdown",
   "metadata": {},
   "source": [
    " **一. 实验要求  \n",
    " 二. 实验步骤  \n",
    " 三. 实验总结**  "
   ]
  },
  {
   "cell_type": "markdown",
   "metadata": {},
   "source": [
    "一.实验要求"
   ]
  },
  {
   "cell_type": "markdown",
   "metadata": {},
   "source": [
    "1.已给f(x)=1/(1+sin x), 在[0, 1]区间取h=1/3和h=1/5.，分别用拉格朗日插值及牛顿插值为基底，计算f(0.4366)的值并估计截断误差。比较两种插值函数的形式,误差估计的形式，并用图型表示结果（语言不限)  \n",
    "2.（龙格现象）\n",
    "在区间[－5，5]上取节点数n=11，等距离h=1的节点为插值点，对于函数\n",
    "                 f(x)=5/(1+x^2)\n",
    "进行拉格朗日插值和差分插值，把f(x)与插值多项式的曲线画在同一张图上."
   ]
  },
  {
   "cell_type": "markdown",
   "metadata": {},
   "source": [
    "**二.实验步骤**"
   ]
  },
  {
   "cell_type": "markdown",
   "metadata": {},
   "source": [
    "### 第一小题 "
   ]
  },
  {
   "cell_type": "code",
   "execution_count": 15,
   "metadata": {
    "collapsed": true
   },
   "outputs": [],
   "source": [
    "import numpy as np\n",
    "import matplotlib.pyplot as plt\n",
    "import math"
   ]
  },
  {
   "cell_type": "code",
   "execution_count": 16,
   "metadata": {
    "collapsed": true
   },
   "outputs": [],
   "source": [
    "def f(x):\n",
    "    return 1.0/(1+math.sin(x))"
   ]
  },
  {
   "cell_type": "code",
   "execution_count": 17,
   "metadata": {
    "collapsed": true
   },
   "outputs": [],
   "source": [
    "# 定义拉格朗日公式：\n",
    "def lagrange(lx,ly,x):\n",
    "    if len(lx)<2 or len(ly)<2: # 注意了在这里的话，这个长度一定要是大于等于2的，因为从原理上讲的话，如果一点的话，那是无法确定任何的线段的，也没有任何的意义。\n",
    "        print \"the length of list is not enough!\"\n",
    "        return 0\n",
    "    sum =0\n",
    "    for k in range(len(lx)):\n",
    "        inner = 1.0\n",
    "        for j in range(len(lx)):\n",
    "            if j!=k:\n",
    "                inner *= (x-lx[j])*1.0/(lx[k]-lx[j])\n",
    "        sum += ly[k]*inner\n",
    "    return sum\n",
    "            \n",
    "            "
   ]
  },
  {
   "cell_type": "markdown",
   "metadata": {},
   "source": [
    "#### 以下是h=1/3的拉格朗日插值的计算。"
   ]
  },
  {
   "cell_type": "code",
   "execution_count": 18,
   "metadata": {},
   "outputs": [
    {
     "name": "stdout",
     "output_type": "stream",
     "text": [
      "x is 0.4366\n",
      "0.702809412181 0.702809412181\n",
      "得到的插值的结果是  0.701953997332 \n",
      "误差是 0.000855414848541\n"
     ]
    }
   ],
   "source": [
    "\n",
    "print 'x is',x\n",
    "print f(0.4366),f(x)\n",
    "print u'得到的插值的结果是 ',y,'\\n',u'误差是',f(x)-y"
   ]
  },
  {
   "cell_type": "markdown",
   "metadata": {},
   "source": [
    "#### 以下是h= 1/5的拉格朗日插值的计算"
   ]
  },
  {
   "cell_type": "code",
   "execution_count": 19,
   "metadata": {},
   "outputs": [
    {
     "name": "stdout",
     "output_type": "stream",
     "text": [
      "当h=1/3时：\n",
      "拉格朗日插值是： 0.701953997332 \n",
      "误差为： 0.000855414848541\n",
      "当h=1/5时：\n",
      "拉格朗日插值是： 0.702815473834 \n",
      "误差为： -6.06165297601e-06\n"
     ]
    }
   ],
   "source": [
    "x =0.4366\n",
    "# print f(x),f(0.4366)\n",
    "lx = np.array([0,1.0/3,2.0/3,1],dtype = 'float')\n",
    "ly = np.array([f(i) for i in lx])\n",
    "# print \"the lx is \",lx,'\\n',\"the ly is \",ly,'\\n'\n",
    "y = lagrange(lx,ly,x)\n",
    "\n",
    "lx1 = np.array([0,1.0/5,2.0/5,3.0/5,4.0/5,1],dtype = 'float')\n",
    "ly1 = np.array([f(i) for i in lx1])\n",
    "# print \"the lx is \",lx,'\\n',\"the ly is \",ly,'\\n'\n",
    "y1 = lagrange(lx1,ly1,x)\n",
    "print '当h=1/3时：'\n",
    "print '拉格朗日插值是：',y,'\\n误差为：',f(x)-y\n",
    "print '当h=1/5时：'\n",
    "print u'拉格朗日插值是：',y1,u'\\n误差为：',f(x)-y1"
   ]
  },
  {
   "cell_type": "markdown",
   "metadata": {},
   "source": [
    "#### 以下是牛顿插值法"
   ]
  },
  {
   "cell_type": "code",
   "execution_count": 20,
   "metadata": {
    "collapsed": true
   },
   "outputs": [],
   "source": [
    "# 计算相乘的部分。\n",
    "def w(lx,x):\n",
    "    if len(lx)<2:\n",
    "        return 1\n",
    "    else:\n",
    "        multi = 1.0\n",
    "        for i in range(len(lx)-1):\n",
    "            multi *= (x- lx[i])\n",
    "        return multi"
   ]
  },
  {
   "cell_type": "code",
   "execution_count": 21,
   "metadata": {
    "collapsed": true
   },
   "outputs": [],
   "source": [
    "# 计算均差的部分。\n",
    "def juncha(lx,ly):\n",
    "    if len(lx)>2 and len(ly)>2 :\n",
    "        return (juncha(lx[:len(lx) - 1], ly[:len(ly) - 1]) - juncha(lx[1:len(lx)], ly[1:len(ly)])) / float(lx[0] - lx[-1])\n",
    "    elif len(lx)==1:\n",
    "        return ly[0]\n",
    "    else:\n",
    "        return (ly[1]-ly[0])/float((lx[1]-lx[0]))"
   ]
  },
  {
   "cell_type": "code",
   "execution_count": 22,
   "metadata": {},
   "outputs": [
    {
     "name": "stdout",
     "output_type": "stream",
     "text": [
      "-0.0166666666667\n",
      "0.0166666666667\n",
      "说明方差的计算是没有错误的。\n"
     ]
    }
   ],
   "source": [
    "# 检测这个求的均差对不对\n",
    "la = np.array([1,4,9],dtype = 'float')\n",
    "lb = np.array([1,2,3],dtype = 'float')\n",
    "print juncha(la,lb)\n",
    "print 1.0/60\n",
    "print u'说明方差的计算是没有错误的。'"
   ]
  },
  {
   "cell_type": "code",
   "execution_count": 23,
   "metadata": {
    "collapsed": true
   },
   "outputs": [],
   "source": [
    "# 整合均差和w部分的计算。\n",
    "def newton(lx,ly,x):\n",
    "    if len(lx)==1:\n",
    "        return ly[0]\n",
    "    sum = ly[0]\n",
    "    for i in range(len(lx)-1):\n",
    "        sum += juncha(lx[:i+2],ly[:i+2])*w(lx[:i+2],x) # 注意这里是要加上2的如果，len(lx)=2,lx[:2],变为[0,1]\n",
    "    return sum"
   ]
  },
  {
   "cell_type": "code",
   "execution_count": 24,
   "metadata": {},
   "outputs": [
    {
     "name": "stdout",
     "output_type": "stream",
     "text": [
      "2.26666666667\n"
     ]
    }
   ],
   "source": [
    "# 测试结果\n",
    "l1 = np.array([1,4,9])\n",
    "l2 = np.sqrt(l1)\n",
    "print newton(l1,l2,5)"
   ]
  },
  {
   "cell_type": "code",
   "execution_count": 25,
   "metadata": {},
   "outputs": [
    {
     "name": "stdout",
     "output_type": "stream",
     "text": [
      "the lx is  [ 0.   0.2  0.4  0.6  0.8  1. ] \n",
      "the ly is  [ 1.          0.83425844  0.71972564  0.63912364  0.58229042  0.54304413] \n",
      "\n",
      "插值的结果是： 0.702815473834 \n",
      "正确结果是： 0.702809412181 \n",
      "误差是： -6.06165297601e-06\n"
     ]
    }
   ],
   "source": [
    "lx = np.array([0,1.0/5,2.0/5,3.0/5,4.0/5,1],dtype = 'float')\n",
    "ly = np.array([f(i) for i in lx])\n",
    "print \"the lx is \",lx,'\\n',\"the ly is \",ly,'\\n'\n",
    "y = newton(lx,ly,x)\n",
    "print u'插值的结果是：',y,'\\n正确结果是：',f(x),u'\\n误差是：',f(x)-y"
   ]
  },
  {
   "cell_type": "code",
   "execution_count": 31,
   "metadata": {},
   "outputs": [
    {
     "name": "stdout",
     "output_type": "stream",
     "text": [
      "当h=1/3时：\n",
      "牛顿插值是： 0.702815473834 \n",
      "误差是： -6.06165297601e-06\n",
      "\n",
      "当h=1/5时：\n",
      "牛顿插值是： 0.701953997332 \n",
      "误差是 0.000855414848541\n"
     ]
    }
   ],
   "source": [
    "lx = np.array([0,1.0/5,2.0/5,3.0/5,4.0/5,1],dtype = 'float')\n",
    "ly = np.array([f(i) for i in lx])\n",
    "# print \"the lx is \",lx,'\\n',\"the ly is \",ly,'\\n'\n",
    "y = newton(lx,ly,x)\n",
    "print '当h=1/3时：'\n",
    "print u'牛顿插值是：',y,u'\\n误差是：',f(x)-y\n",
    "# print f(x),f(0.4366)\n",
    "print\n",
    "lx1 = np.array([0,1.0/3,2.0/3,1],dtype = 'float')\n",
    "ly1 = np.array([f(i) for i in lx1])\n",
    "y1 = newton(lx1,ly1,x)\n",
    "print \"当h=1/5时：\"\n",
    "print u'牛顿插值是：',y1,'\\n',u'误差是',f(x)-y1"
   ]
  },
  {
   "cell_type": "markdown",
   "metadata": {},
   "source": [
    "#### 图形表示两种插值函数和原函数"
   ]
  },
  {
   "cell_type": "code",
   "execution_count": 14,
   "metadata": {},
   "outputs": [
    {
     "data": {
      "text/plain": [
       "<matplotlib.legend.Legend at 0x7f7d36ed69d0>"
      ]
     },
     "execution_count": 14,
     "metadata": {},
     "output_type": "execute_result"
    },
    {
     "data": {
      "image/png": "[encoded data removed]",
      "text/plain": [
       "<matplotlib.figure.Figure at 0x7f7d61392250>"
      ]
     },
     "metadata": {},
     "output_type": "display_data"
    }
   ],
   "source": [
    "lxx = np.linspace(0,1,100)\n",
    "lyy = np.array([f(i) for i in lxx])\n",
    "fig = plt.figure()\n",
    "ax1 = fig.add_subplot(1,1,1)\n",
    "ax1.plot(lxx,lyy,'k',label= 'f(x)')\n",
    "ax1.plot(lxx,lagrange(lx,ly,lxx),'b-',label = 'Lagrange')\n",
    "ax1.plot(lxx,newton(lx,ly,lxx),'g.',label = 'Newton')\n",
    "ax1.legend(loc = 'best')"
   ]
  },
  {
   "cell_type": "markdown",
   "metadata": {},
   "source": [
    "### 第二小题"
   ]
  },
  {
   "cell_type": "code",
   "execution_count": 15,
   "metadata": {
    "collapsed": true
   },
   "outputs": [],
   "source": [
    "def f2(x):\n",
    "    return 5.0/(1+x**2)"
   ]
  },
  {
   "cell_type": "code",
   "execution_count": 16,
   "metadata": {
    "collapsed": true
   },
   "outputs": [],
   "source": [
    "lx2 = np.linspace(-5,5,11)\n",
    "ly2 = f2(lx2)"
   ]
  },
  {
   "cell_type": "code",
   "execution_count": 17,
   "metadata": {
    "collapsed": true
   },
   "outputs": [],
   "source": [
    "lxx = np.linspace(-5,5,100)\n",
    "lyy = f2(lxx)"
   ]
  },
  {
   "cell_type": "markdown",
   "metadata": {},
   "source": [
    "#### 图形显示"
   ]
  },
  {
   "cell_type": "code",
   "execution_count": 18,
   "metadata": {},
   "outputs": [
    {
     "data": {
      "text/plain": [
       "<matplotlib.legend.Legend at 0x7f7d36dfe710>"
      ]
     },
     "execution_count": 18,
     "metadata": {},
     "output_type": "execute_result"
    },
    {
     "data": {
      "image/png": "[encoded data removed]",
      "text/plain": [
       "<matplotlib.figure.Figure at 0x7f7d36eb3650>"
      ]
     },
     "metadata": {},
     "output_type": "display_data"
    }
   ],
   "source": [
    "fig = plt.figure()\n",
    "ax = fig.add_subplot(1,1,1)\n",
    "ax.plot(lxx,lyy,'k',label = 'f(x)')\n",
    "ax.plot(lxx,lagrange(lx2,ly2,lxx),'b-',label = 'Lagrange')\n",
    "ax.plot(lxx,newton(lx2,ly2,lxx),'g.',label = 'Newton')\n",
    "ax.legend(loc = 'best')"
   ]
  },
  {
   "cell_type": "markdown",
   "metadata": {},
   "source": [
    "由此可以看出所谓的龙格现象：当进行高指数的插值时，拉格朗日插值函数和牛顿插值函数在两个端点的值距离原函数的值差距是比较大的。"
   ]
  },
  {
   "cell_type": "markdown",
   "metadata": {},
   "source": [
    "#### 三.总结"
   ]
  },
  {
   "cell_type": "markdown",
   "metadata": {},
   "source": [
    "进行高指数的插值时，很容易出现龙格现象，避免这种情况的发生应使用分段插值。"
   ]
  }
 ],
 "metadata": {
  "kernelspec": {
   "display_name": "Python 2",
   "language": "python",
   "name": "python2"
  },
  "language_info": {
   "codemirror_mode": {
    "name": "ipython",
    "version": 2
   },
   "file_extension": ".py",
   "mimetype": "text/x-python",
   "name": "python",
   "nbconvert_exporter": "python",
   "pygments_lexer": "ipython2",
   "version": "2.7.13"
  }
 },
 "nbformat": 4,
 "nbformat_minor": 2
}
