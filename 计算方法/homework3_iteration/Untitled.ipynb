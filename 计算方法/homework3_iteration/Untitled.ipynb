{
 "cells": [
  {
   "cell_type": "markdown",
   "metadata": {
    "collapsed": true
   },
   "source": [
    "![homework](homework.png)"
   ]
  },
  {
   "cell_type": "code",
   "execution_count": 17,
   "metadata": {
    "collapsed": true
   },
   "outputs": [],
   "source": [
    "import numpy as np\n",
    "import math"
   ]
  },
  {
   "cell_type": "code",
   "execution_count": 2,
   "metadata": {
    "collapsed": true
   },
   "outputs": [],
   "source": [
    "def initialization(n):\n",
    "    bn = range(1,n+1)\n",
    "    An = []\n",
    "    for i in range(n):\n",
    "        list = range(1,n+1)\n",
    "        list[i] = n**2\n",
    "        An.append(list)\n",
    "    return An,bn"
   ]
  },
  {
   "cell_type": "code",
   "execution_count": 56,
   "metadata": {
    "collapsed": true
   },
   "outputs": [],
   "source": [
    "class iteration():\n",
    "    def __init__(self):\n",
    "        self.A = None\n",
    "        self.b = None\n",
    "        self.x0 = None\n",
    "    # 构造迭代矩阵An和初始值x0 和bn。\n",
    "    def initialization(self,n):\n",
    "        self.b = range(1,n+1)\n",
    "        self.A = []\n",
    "        self.x0 = np.zeros((n,))\n",
    "        for i in range(n):\n",
    "            list = range(1,n+1)\n",
    "            list[i] = n**2\n",
    "            self.A.append(list)\n",
    "#         return self.An,self.bn,self.x0\n",
    "    \n",
    "    def jacoby(self):\n",
    "        print 'h'\n",
    "        "
   ]
  },
  {
   "cell_type": "code",
   "execution_count": 59,
   "metadata": {},
   "outputs": [
    {
     "name": "stdout",
     "output_type": "stream",
     "text": [
      "None\n"
     ]
    },
    {
     "data": {
      "text/plain": [
       "[1, 2, 3, 4]"
      ]
     },
     "execution_count": 59,
     "metadata": {},
     "output_type": "execute_result"
    }
   ],
   "source": [
    "it = iteration()\n",
    "print it.initialization(4)\n",
    "it.A\n",
    "it.b"
   ]
  },
  {
   "cell_type": "code",
   "execution_count": 5,
   "metadata": {},
   "outputs": [
    {
     "name": "stdout",
     "output_type": "stream",
     "text": [
      "[[16  2  3  4]\n",
      " [ 1 16  3  4]\n",
      " [ 1  2 16  4]\n",
      " [ 1  2  3 16]] \n",
      "[1 2 3 4]\n"
     ]
    }
   ],
   "source": [
    "A = np.array(it.An)\n",
    "b = np.array(it.bn)\n",
    "print A,'\\n',b"
   ]
  },
  {
   "cell_type": "markdown",
   "metadata": {},
   "source": [
    "分解矩阵A得到L和U。"
   ]
  },
  {
   "cell_type": "code",
   "execution_count": 54,
   "metadata": {
    "collapsed": true
   },
   "outputs": [],
   "source": [
    "\n",
    "def LU_decompose(A):\n",
    "    length = len(A)\n",
    "    print length\n",
    "    L = np.zeros((length,length))\n",
    "    U = np.zeros((length,length))\n",
    "#     print L.dtype,U.dtype\n",
    "    # 初始化向量\n",
    "    for i in range(len(A)):\n",
    "        U[0][i]=A[0][i]\n",
    "        L[i][0]=A[i][0]*1.0/U[0][0]\n",
    "    for r in range(1,len(A)):\n",
    "        for i in range(r,len(A)):\n",
    "            sum1 = 0\n",
    "            sum2 = 0\n",
    "            for k in range(0,r):\n",
    "                sum1 +=L[r][k]*U[k][i]\n",
    "                sum2 +=L[i][k]*U[k][r]\n",
    "            U[r][i] = A[r][i]-sum1\n",
    "            L[i][r] = (A[i][r]-sum2)*1.0/U[r][r]\n",
    "    return L,U"
   ]
  },
  {
   "cell_type": "code",
   "execution_count": 55,
   "metadata": {},
   "outputs": [
    {
     "name": "stdout",
     "output_type": "stream",
     "text": [
      "4\n",
      "[[ 1.          0.          0.          0.        ]\n",
      " [ 0.0625      1.          0.          0.        ]\n",
      " [ 0.0625      0.11811024  1.          0.        ]\n",
      " [ 0.0625      0.11811024  0.1602238   1.        ]] \n",
      "[[ 16.           2.           3.           4.        ]\n",
      " [  0.          15.875        2.8125       3.75      ]\n",
      " [  0.           0.          15.48031496   3.30708661]\n",
      " [  0.           0.           0.          14.77721261]]\n"
     ]
    }
   ],
   "source": [
    "L,U = LU_decompose(A)\n",
    "L = np.array(L)\n",
    "U = np.array(U)\n",
    "print L,'\\n',U"
   ]
  },
  {
   "cell_type": "markdown",
   "metadata": {},
   "source": [
    "利用分解得到的LU来回代求得精确解。"
   ]
  },
  {
   "cell_type": "code",
   "execution_count": 8,
   "metadata": {
    "collapsed": true
   },
   "outputs": [],
   "source": [
    "def solve(L,U,b):\n",
    "    length = len(L)\n",
    "    y = np.array([0.0]*length)\n",
    "    x = np.array([0.0]*length)\n",
    "    print x.dtype,y.dtype\n",
    "    n = len(x)-1\n",
    "#     print len(y)\n",
    "    y[0] = b[0]\n",
    "    for i in range(1,len(y)):\n",
    "        sum1 = 0\n",
    "        for k in range(0,i):\n",
    "            sum1 += L[i,k]*y[k]*1.0\n",
    "        y[i]= b[i]-sum1\n",
    "    x[n] = y[n]*1.0/U[n,n]\n",
    "    for i in range(n-1,-1,-1):\n",
    "        sum2 = 0\n",
    "        for k in range(i+1,n+1):\n",
    "            sum2+= U[i,k]*x[k]\n",
    "        x[i] = (y[i]-sum2)*1.0/U[i][i]*1.0\n",
    "    return y,x"
   ]
  },
  {
   "cell_type": "code",
   "execution_count": 9,
   "metadata": {},
   "outputs": [
    {
     "name": "stdout",
     "output_type": "stream",
     "text": [
      "float64 float64\n"
     ]
    },
    {
     "data": {
      "text/plain": [
       "(array([ 1.        ,  1.9375    ,  2.70866142,  3.27466938]),\n",
       " array([-0.02271789,  0.04708798,  0.12763321,  0.22160264]))"
      ]
     },
     "execution_count": 9,
     "metadata": {},
     "output_type": "execute_result"
    }
   ],
   "source": [
    "solve(L,U,b)"
   ]
  },
  {
   "cell_type": "code",
   "execution_count": 10,
   "metadata": {},
   "outputs": [
    {
     "name": "stdout",
     "output_type": "stream",
     "text": [
      "[ 1.          1.9375      2.70866142  3.27466938] [-0.02271789  0.04708798  0.12763321  0.22160264]\n"
     ]
    }
   ],
   "source": [
    "y= np.linalg.solve(L, b)\n",
    "x = np.linalg.solve(U,y)\n",
    "print y,x"
   ]
  },
  {
   "cell_type": "code",
   "execution_count": 14,
   "metadata": {},
   "outputs": [
    {
     "data": {
      "text/plain": [
       "array([-0.02271789,  0.04708798,  0.12763321,  0.22160264])"
      ]
     },
     "execution_count": 14,
     "metadata": {},
     "output_type": "execute_result"
    }
   ],
   "source": [
    "np.linalg.solve(A,b)"
   ]
  },
  {
   "cell_type": "code",
   "execution_count": 37,
   "metadata": {
    "collapsed": true
   },
   "outputs": [],
   "source": [
    "def jacoby(A,b,x):\n",
    "    n = len(b)\n",
    "    x0=np.array([0.0]*n)\n",
    "    x1 = np.array([0.0]*n)\n",
    "    count = 0\n",
    "    while(True):\n",
    "        count +=1\n",
    "        for i in range(0,n):\n",
    "            sum1 =0\n",
    "            for j in range(0,n):\n",
    "                if(j!=i):\n",
    "                    sum1 +=A[i,j]*x0[j]\n",
    "            x1[i] = (b[i]-sum1)*1.0/A[i,i]\n",
    "        e = max(abs(x1-x))\n",
    "        if(e<1.0/2*(10**(-4))):\n",
    "            break\n",
    "        else:\n",
    "            x0 = x1\n",
    "    return count,x1"
   ]
  },
  {
   "cell_type": "code",
   "execution_count": 38,
   "metadata": {},
   "outputs": [
    {
     "data": {
      "text/plain": [
       "(5, array([-0.02271687,  0.04710775,  0.12763533,  0.22159971]))"
      ]
     },
     "execution_count": 38,
     "metadata": {},
     "output_type": "execute_result"
    }
   ],
   "source": [
    "jacoby(A,b,x)"
   ]
  },
  {
   "cell_type": "code",
   "execution_count": 49,
   "metadata": {
    "collapsed": true
   },
   "outputs": [],
   "source": [
    "def  Seidel(A,b,x):\n",
    "    n = len(b)\n",
    "    x0=np.array([0.0]*n)\n",
    "    x1 = np.array([0.0]*n)\n",
    "    count = 0\n",
    "    while(True):\n",
    "        count +=1\n",
    "        for i in range(0,n):\n",
    "            sum1 =0\n",
    "            for j in range(0,n):\n",
    "                if(j<i):\n",
    "                    sum1 +=A[i,j]*x1[j]\n",
    "                elif(j>i):\n",
    "                    sum1 +=A[i,j]*x0[j]\n",
    "            x1[i] = (b[i]-sum1)*1.0/A[i,i]\n",
    "        e = max(abs(x1-x))\n",
    "        if(e<1.0/2*(10**(-4))):\n",
    "            break\n",
    "        else:\n",
    "            x0 = x1\n",
    "    return count,x1"
   ]
  },
  {
   "cell_type": "code",
   "execution_count": 50,
   "metadata": {},
   "outputs": [
    {
     "data": {
      "text/plain": [
       "(5, array([-0.02270494,  0.0470889 ,  0.12762894,  0.22160252]))"
      ]
     },
     "execution_count": 50,
     "metadata": {},
     "output_type": "execute_result"
    }
   ],
   "source": [
    "Seidel(A,b,x)"
   ]
  },
  {
   "cell_type": "code",
   "execution_count": 51,
   "metadata": {
    "collapsed": true
   },
   "outputs": [],
   "source": [
    "def Sor(A,b,x,w):\n",
    "    n = len(b)\n",
    "    x0=np.array([0.0]*n)\n",
    "    x1 = np.array([0.0]*n)\n",
    "    count = 0\n",
    "    while(True):\n",
    "        count +=1\n",
    "        for i in range(0,n):\n",
    "            sum1 =0\n",
    "            for j in range(0,n):\n",
    "                if(j<i):\n",
    "                    sum1 +=A[i,j]*x1[j]\n",
    "                elif(j>=i):\n",
    "                    sum1 +=A[i,j]*x0[j]\n",
    "            x1[i] = x0[i]+w*1.0*(b[i]-sum1)*1.0/A[i,i]\n",
    "        e = max(abs(x1-x))\n",
    "        if(e<1.0/2*(10**(-4))):\n",
    "            break\n",
    "        else:\n",
    "            x0 = x1\n",
    "    return count,x1"
   ]
  },
  {
   "cell_type": "code",
   "execution_count": 53,
   "metadata": {},
   "outputs": [
    {
     "name": "stdout",
     "output_type": "stream",
     "text": [
      "(12, array([-0.0227142 ,  0.04710403,  0.12766402,  0.22157572]))\n",
      "(8, array([-0.02272497,  0.0470859 ,  0.12765072,  0.22159499]))\n",
      "(5, array([-0.02270494,  0.0470889 ,  0.12762894,  0.22160252]))\n",
      "(7, array([-0.02275042,  0.04708037,  0.12765342,  0.22161188]))\n"
     ]
    }
   ],
   "source": [
    "wn = [0.6,0.8,1.0,1.2]\n",
    "for w in wn:\n",
    "    print Sor(A,b,x,w)"
   ]
  }
 ],
 "metadata": {
  "kernelspec": {
   "display_name": "Python 2",
   "language": "python",
   "name": "python2"
  },
  "language_info": {
   "codemirror_mode": {
    "name": "ipython",
    "version": 2
   },
   "file_extension": ".py",
   "mimetype": "text/x-python",
   "name": "python",
   "nbconvert_exporter": "python",
   "pygments_lexer": "ipython2",
   "version": "2.7.13"
  }
 },
 "nbformat": 4,
 "nbformat_minor": 2
}
