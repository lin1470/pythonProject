{
 "cells": [
  {
   "cell_type": "markdown",
   "metadata": {
    "collapsed": true
   },
   "source": [
    "![homework](homework.png)"
   ]
  },
  {
   "cell_type": "markdown",
   "metadata": {},
   "source": [
    "导入相应的科学计算方法的库"
   ]
  },
  {
   "cell_type": "code",
   "execution_count": 25,
   "metadata": {
    "collapsed": true
   },
   "outputs": [],
   "source": [
    "import numpy as np\n",
    "import math "
   ]
  },
  {
   "cell_type": "code",
   "execution_count": 26,
   "metadata": {
    "collapsed": true
   },
   "outputs": [],
   "source": [
    "#定义截断保留7位小数的方法\n",
    "def floor(x,n):\n",
    "    return math.floor(x*10**n)/(10**n)"
   ]
  },
  {
   "cell_type": "code",
   "execution_count": 165,
   "metadata": {},
   "outputs": [
    {
     "name": "stdout",
     "output_type": "stream",
     "text": [
      "[ 0.     0.125  0.25   0.375  0.5    0.625  0.75   0.875  1.   ] \n",
      "[ 1.          0.98461538  0.94117647  0.87671233  0.8         0.71910112\n",
      "  0.64        0.56637168  0.5       ]\n"
     ]
    }
   ],
   "source": [
    "f = lambda x:1.0/(1+x**2)\n",
    "l1 = np.linspace(0,1,9)\n",
    "f_l2 = f(l1)\n",
    "print l1,\"\\n\",f_l2\n"
   ]
  },
  {
   "cell_type": "markdown",
   "metadata": {},
   "source": [
    "测试用例"
   ]
  },
  {
   "cell_type": "code",
   "execution_count": 28,
   "metadata": {},
   "outputs": [
    {
     "name": "stdout",
     "output_type": "stream",
     "text": [
      "[0, 0.125, 0.25, 0.375, 0.5, 0.625, 0.75, 0.875, 1.0] \n",
      "[1, 0.9973978, 0.9896158, 0.9767267, 0.958851, 0.9361556, 0.9088516, 0.8771925, 0.8414709]\n"
     ]
    }
   ],
   "source": [
    "f2 = lambda i:1.0*math.sin(i)/i\n",
    "ll1 = list(np.linspace(0.125,1,8))\n",
    "f_ll2 = [floor(f2(x),7) for x in ll1]\n",
    "ll1.insert(0,0)\n",
    "f_ll2.insert(0,1)\n",
    "print ll1,\"\\n\",f_ll2"
   ]
  },
  {
   "cell_type": "markdown",
   "metadata": {},
   "source": [
    "复合梯形"
   ]
  },
  {
   "cell_type": "code",
   "execution_count": 30,
   "metadata": {
    "collapsed": true
   },
   "outputs": [],
   "source": [
    "def trapezoid(l1,l2):\n",
    "    h = (l1[-1]-l1[0])/(len(l1)-1)\n",
    "#     print(h,\"\\n\")\n",
    "    sum = 0.0\n",
    "    for i in range(1,len(l1)-1): # 注意这里是len(l1)-1的啊。\n",
    "#         print(l2[i])\n",
    "        sum +=2.0*l2[i]\n",
    "    return 1.0*h/2*(l2[0]+l2[-1]+sum)\n"
   ]
  },
  {
   "cell_type": "markdown",
   "metadata": {},
   "source": [
    "复合辛普森"
   ]
  },
  {
   "cell_type": "code",
   "execution_count": 31,
   "metadata": {
    "collapsed": true
   },
   "outputs": [],
   "source": [
    "def simpson(l1,l2):\n",
    "    h = (l1[-1]-l1[0])/(len(l1)-1)*2\n",
    "#     print u\"h的值为\",h,\"\\n\"\n",
    "    sum = 0.0\n",
    "    for i in range(1,len(l1)-1):\n",
    "        if i%2 ==1:\n",
    "            sum += 4.0*l2[i]\n",
    "        else:\n",
    "            sum += 2.0*l2[i]\n",
    "    return 1.0*h/6*(l2[0]+l2[-1]+sum)"
   ]
  },
  {
   "cell_type": "code",
   "execution_count": 109,
   "metadata": {},
   "outputs": [
    {
     "name": "stdout",
     "output_type": "stream",
     "text": [
      "[0.0, 0.0625, 0.125, 0.1875, 0.25, 0.3125, 0.375, 0.4375, 0.5, 0.5625, 0.625, 0.6875, 0.75, 0.8125, 0.875, 0.9375, 1.0] \n",
      "[0.0, 0.015625, 0.0441941, 0.0811898, 0.125, 0.1746928, 0.2296396, 0.289379, 0.3535533, 0.421875, 0.4941058, 0.5700448, 0.649519, 0.7323776, 0.8184875, 0.9077304, 1.0]\n"
     ]
    }
   ],
   "source": [
    "f3 = lambda i:i**(3.0/2)\n",
    "ll3 = list (np.linspace(0,1,17))\n",
    "f_ll3 = [floor(f3(x),7) for x in ll3]\n",
    "print ll3,\"\\n\",f_ll3"
   ]
  },
  {
   "cell_type": "markdown",
   "metadata": {},
   "source": [
    "外推算法"
   ]
  },
  {
   "cell_type": "code",
   "execution_count": 130,
   "metadata": {
    "collapsed": true
   },
   "outputs": [],
   "source": [
    "\n",
    "def extrapolation(f,a,b,m,k):\n",
    "#     print inner_l1,\"\\n\",inner_l2\n",
    "# 后来觉悟了，这个函数应该这样设置。自动生成积分点和积分值。\n",
    "# f是函数，a,b是积分上下限，m是加速次数，k是二分次数。\n",
    "    if m==0:\n",
    "        number = 2 ** k + 1\n",
    "        inner_l1 = list(np.linspace(a, b, number))\n",
    "        inner_l2 = [floor(f(x),7) for x in inner_l1]\n",
    "        return trapezoid(inner_l1,inner_l2)\n",
    "    else:\n",
    "        # return 1.0*(4**m)/(4**m-1)*extrapolation(a,b,m-1,k+1)-(1.0/(4**m)-1)*extrapolation(a,b,m-1,k)\n",
    "        pre = 1.0*4**m/(4**m-1)\n",
    "        las = 1.0/(4**m-1)\n",
    "        pre_result = extrapolation(f,a,b,m-1,k+1)\n",
    "        las_result = extrapolation(f,a,b,m-1,k)\n",
    "        return pre*pre_result-las*las_result"
   ]
  },
  {
   "cell_type": "markdown",
   "metadata": {},
   "source": [
    "高斯-勒让德求积公式"
   ]
  },
  {
   "cell_type": "code",
   "execution_count": 155,
   "metadata": {},
   "outputs": [],
   "source": [
    "def gauss(f,n):\n",
    "    # f代表的是函数值,n+1代表的而是需要用到的节点数\n",
    "    gauss_dict={\n",
    "    0: {0:2},\n",
    "    1: {0.5573503:1,\n",
    "        -0.5773503:1},\n",
    "    2: {0.77459667: 0.5555556,\n",
    "        -0.77459667: 0.5555556,\n",
    "        0:0.8888889\n",
    "       },\n",
    "    3: {0.8611363:0.3478548,\n",
    "        -0.8611363: 0.3478548,\n",
    "        0.3399810: 0.6521452,\n",
    "        -0.3399810: 0.6521452,\n",
    "       },\n",
    "    4: {0.9061798: 0.2369269,\n",
    "        -0.9061798: 0.2369269,\n",
    "        0.5384693: 0.4786287,\n",
    "        -0.5384693: 0.4786287,\n",
    "        0: 0.5688889,\n",
    "       },\n",
    "    5:{0.9324695:0.1713245,\n",
    "      -0.9324695:0.1713245,\n",
    "      0.6612094:0.3607616,\n",
    "       -0.6612094:0.3607616,\n",
    "       0.2386192:0.4679139,\n",
    "       -0.2386192:0.4679139\n",
    "      }\n",
    "    }\n",
    "    \n",
    "    sum = 0.0\n",
    "    for x,A in gauss_dict[n].items():\n",
    "        sum += A*f(x)\n",
    "    return sum\n",
    "    "
   ]
  },
  {
   "cell_type": "code",
   "execution_count": 183,
   "metadata": {},
   "outputs": [
    {
     "name": "stdout",
     "output_type": "stream",
     "text": [
      "复合梯形求积公式：\n",
      "0.7847471\n",
      "复合辛普森求积公式：\n",
      "0.7853981\n",
      "外推求积公式：\n",
      "加速一次（外推辛普森）: 0.7833333\n",
      "加速二次（外推柯斯）： 0.7855293\n",
      "加速三次（外推龙贝格）： 0.7853964\n",
      "高斯-勒让德公式求积：\n",
      "0.7855856\n"
     ]
    }
   ],
   "source": [
    "print \"复合梯形求积公式：\"\n",
    "print floor(trapezoid(l1,f_l2),7)\n",
    "print \"复合辛普森求积公式：\"\n",
    "print floor(simpson(l1,f_l2),7)\n",
    "print \"外推求积公式：\"\n",
    "print \"加速一次（外推辛普森）:\",floor(extrapolation(f,0,1,1,0),7)\n",
    "print \"加速二次（外推柯斯）：\",floor(extrapolation(f,0,1,2,0),7)\n",
    "print \"加速三次（外推龙贝格）：\",floor(extrapolation(f,0,1,3,0),7)\n",
    "print \"高斯-勒让德公式求积：\"\n",
    "print floor(gauss(f,4)/2,7)"
   ]
  }
 ],
 "metadata": {
  "kernelspec": {
   "display_name": "Python 2",
   "language": "python",
   "name": "python2"
  },
  "language_info": {
   "codemirror_mode": {
    "name": "ipython",
    "version": 2
   },
   "file_extension": ".py",
   "mimetype": "text/x-python",
   "name": "python",
   "nbconvert_exporter": "python",
   "pygments_lexer": "ipython2",
   "version": "2.7.13"
  }
 },
 "nbformat": 4,
 "nbformat_minor": 2
}
