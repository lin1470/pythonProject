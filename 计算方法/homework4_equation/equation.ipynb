{
 "cells": [
  {
   "cell_type": "markdown",
   "metadata": {},
   "source": [
    "### 作业要求"
   ]
  },
  {
   "cell_type": "markdown",
   "metadata": {},
   "source": [
    " ![homework](homework.bmp)"
   ]
  },
  {
   "cell_type": "code",
   "execution_count": 2,
   "metadata": {
    "collapsed": true
   },
   "outputs": [],
   "source": [
    "from itertools import combinations, permutations"
   ]
  },
  {
   "cell_type": "markdown",
   "metadata": {},
   "source": [
    "#### 求解系数的步骤："
   ]
  },
  {
   "cell_type": "code",
   "execution_count": 3,
   "metadata": {
    "collapsed": true
   },
   "outputs": [],
   "source": [
    "multiply = lambda x,y:x*y\n",
    "def coefficient(c,a):\n",
    "    c_list = combinations(c,a)\n",
    "    return (-1)**a*sum(map(lambda x:reduce(multiply,x),c_list))"
   ]
  },
  {
   "cell_type": "code",
   "execution_count": 4,
   "metadata": {},
   "outputs": [
    {
     "name": "stdout",
     "output_type": "stream",
     "text": [
      "a0 到 a9的系数为:\n",
      "[3628800, -10628640, 12753576, -8409500, 3416930, -902055, 157773, -18150, 1320, -55]\n"
     ]
    }
   ],
   "source": [
    "print 'a0 到 a9的系数为:'\n",
    "print list(reversed(map(coefficient,[range(1,11)]*10,range(1,11))))"
   ]
  },
  {
   "cell_type": "markdown",
   "metadata": {},
   "source": [
    "由此知道返回的系数a0到a9的分别是以上的数字。则我们要解的方程是: \n",
    "$p(x) =  3628800-10628640*x+12753576*x^2-8409500*x^3+3416930*x^4-902055*x^5+157773*x^6+-18150*x^7+1320*x^8-55x+x^(10)$  \n",
    "则扰动方程为:\n",
    "$p(x)+ɛx^9=0$"
   ]
  },
  {
   "cell_type": "markdown",
   "metadata": {},
   "source": [
    " 直接利用课本的(6.4)式子就可以求得解：\n",
    "$x_k(\\epsilon)\\approx x_k-\\frac{q(x_k)}{p'(x_k)}\\epsilon$"
   ]
  },
  {
   "cell_type": "markdown",
   "metadata": {},
   "source": [
    "知道$x_k=k(k=1,2,3\\dots10)$  \n",
    "$p'(x_k)= \\prod_{j\\neq k} (k-j)$"
   ]
  },
  {
   "cell_type": "code",
   "execution_count": 5,
   "metadata": {
    "collapsed": true
   },
   "outputs": [],
   "source": [
    "# 定义阶乘的函数\n",
    "def factorial(k):\n",
    "    if k==0:\n",
    "        return 1\n",
    "    else:\n",
    "        return reduce(multiply,range(1,k+1))"
   ]
  },
  {
   "cell_type": "code",
   "execution_count": 6,
   "metadata": {},
   "outputs": [
    {
     "data": {
      "text/plain": [
       "40320"
      ]
     },
     "execution_count": 6,
     "metadata": {},
     "output_type": "execute_result"
    }
   ],
   "source": [
    "factorial(8)"
   ]
  },
  {
   "cell_type": "code",
   "execution_count": 7,
   "metadata": {
    "collapsed": true
   },
   "outputs": [],
   "source": [
    "def solve(k,e):\n",
    "    zi = (-1)**(k-1)*e*(k**9)\n",
    "    mu = factorial(k-1)*factorial(10-k)\n",
    "    return k+zi*1.0/mu"
   ]
  },
  {
   "cell_type": "code",
   "execution_count": 8,
   "metadata": {
    "collapsed": true
   },
   "outputs": [],
   "source": [
    "e_list=[10**(-2),10**(-4),10**(-6)]"
   ]
  },
  {
   "cell_type": "code",
   "execution_count": 9,
   "metadata": {},
   "outputs": [
    {
     "name": "stdout",
     "output_type": "stream",
     "text": [
      "[1.0000000275573193, 1.9998730158730158, 3.0195267857142856, 3.3931851851851853, 11.781684027777779, -28.992000000000004, 100.41112731481482, -125.15250793650793, 105.08643080357143, -17.55731922398589]\n"
     ]
    }
   ],
   "source": [
    "print map(solve,range(1,11),[0.01]*10)"
   ]
  },
  {
   "cell_type": "code",
   "execution_count": 10,
   "metadata": {},
   "outputs": [
    {
     "name": "stdout",
     "output_type": "stream",
     "text": [
      "当e为: 0.01\n",
      "10个解分别为: [1.0000000275573193, 1.9998730158730158, 3.0195267857142856, 3.3931851851851853, 11.781684027777779, -28.992000000000004, 100.41112731481482, -125.15250793650793, 105.08643080357143, -17.55731922398589] \n",
      "\n",
      "当e为: 0.0001\n",
      "10个解分别为: [1.0000000002755731, 1.99999873015873, 3.000195267857143, 3.993931851851852, 5.067816840277778, 5.65008, 7.934111273148148, 6.668474920634921, 9.960864308035715, 9.72442680776014] \n",
      "\n",
      "当e为: 1e-06\n",
      "10个解分别为: [1.0000000000027558, 1.9999999873015872, 3.0000019526785713, 3.9999393185185186, 5.000678168402778, 5.9965008, 7.009341112731481, 7.986684749206349, 9.009608643080357, 9.997244268077601] \n",
      "\n"
     ]
    }
   ],
   "source": [
    "for e in e_list:\n",
    "    print '当e为:',e\n",
    "    print '10个解分别为:',\n",
    "    print map(solve,range(1,11),[e]*10),'\\n'"
   ]
  },
  {
   "cell_type": "markdown",
   "metadata": {},
   "source": [
    "由此可得,这个$\\epsilon$对整个方程的解的影响是非常的大的,尽管$\\epsilon$到达10-6,影响也是无法忽略的."
   ]
  }
 ],
 "metadata": {
  "kernelspec": {
   "display_name": "Python 3",
   "language": "python",
   "name": "python3"
  },
  "language_info": {
   "codemirror_mode": {
    "name": "ipython",
    "version": 3
   },
   "file_extension": ".py",
   "mimetype": "text/x-python",
   "name": "python",
   "nbconvert_exporter": "python",
   "pygments_lexer": "ipython3",
   "version": "3.6.3"
  }
 },
 "nbformat": 4,
 "nbformat_minor": 2
}
